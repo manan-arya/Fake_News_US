{
  "nbformat": 4,
  "nbformat_minor": 0,
  "metadata": {
    "colab": {
      "name": "Classifier.ipynb",
      "version": "0.3.2",
      "provenance": [],
      "include_colab_link": true
    },
    "kernelspec": {
      "name": "python3",
      "display_name": "Python 3"
    }
  },
  "cells": [
    {
      "cell_type": "markdown",
      "metadata": {
        "id": "view-in-github",
        "colab_type": "text"
      },
      "source": [
        "[View in Colaboratory](https://colab.research.google.com/github/manan-arya/Fake_News_US/blob/master/Classifier.ipynb)"
      ]
    },
    {
      "metadata": {
        "id": "woxCWLI8Tjwz",
        "colab_type": "code",
        "colab": {
          "base_uri": "https://localhost:8080/",
          "height": 90
        },
        "outputId": "f1db962e-b6b9-45d7-bcbe-a7115e9877ef"
      },
      "cell_type": "code",
      "source": [
        "!wget https://raw.githubusercontent.com/manan-arya/Fake_News_US/master/kaggle_dataset/train.csv?token=AcjiTfZQHIFYhQ_qKtVo0y6rG3mD71Lcks5bl-ZPwA%3D%3D\n",
        "!wget https://raw.githubusercontent.com/manan-arya/Fake_News_US/master/kaggle_dataset/test.csv?token=AcjiTZknxG_W1-9YmnE6V9HSgBkxaIJgks5bl-aEwA%3D%3D"
      ],
      "execution_count": 42,
      "outputs": [
        {
          "output_type": "stream",
          "text": [
            "\n",
            "Redirecting output to ‘wget-log.4’.\n",
            "\n",
            "Redirecting output to ‘wget-log.5’.\n"
          ],
          "name": "stdout"
        }
      ]
    },
    {
      "metadata": {
        "id": "Oeg0h7IBUWNB",
        "colab_type": "code",
        "colab": {}
      },
      "cell_type": "code",
      "source": [
        "import pandas as pd\n",
        "import numpy as np\n",
        "import matplotlib.pyplot as plt\n",
        "\n",
        "%matplotlib inline"
      ],
      "execution_count": 0,
      "outputs": []
    },
    {
      "metadata": {
        "id": "KuRbpVK_UIrW",
        "colab_type": "code",
        "colab": {
          "base_uri": "https://localhost:8080/",
          "height": 198
        },
        "outputId": "40b22111-bdbb-4ed9-cc98-59de98a59644"
      },
      "cell_type": "code",
      "source": [
        "train = pd.read_csv('train.csv?token=AcjiTfZQHIFYhQ_qKtVo0y6rG3mD71Lcks5bl-ZPwA%3D%3D')\n",
        "train.head()"
      ],
      "execution_count": 44,
      "outputs": [
        {
          "output_type": "execute_result",
          "data": {
            "text/html": [
              "<div>\n",
              "<style scoped>\n",
              "    .dataframe tbody tr th:only-of-type {\n",
              "        vertical-align: middle;\n",
              "    }\n",
              "\n",
              "    .dataframe tbody tr th {\n",
              "        vertical-align: top;\n",
              "    }\n",
              "\n",
              "    .dataframe thead th {\n",
              "        text-align: right;\n",
              "    }\n",
              "</style>\n",
              "<table border=\"1\" class=\"dataframe\">\n",
              "  <thead>\n",
              "    <tr style=\"text-align: right;\">\n",
              "      <th></th>\n",
              "      <th>id</th>\n",
              "      <th>title</th>\n",
              "      <th>author</th>\n",
              "      <th>text</th>\n",
              "      <th>label</th>\n",
              "    </tr>\n",
              "  </thead>\n",
              "  <tbody>\n",
              "    <tr>\n",
              "      <th>0</th>\n",
              "      <td>0</td>\n",
              "      <td>House Dem Aide: We Didn’t Even See Comey’s Let...</td>\n",
              "      <td>Darrell Lucus</td>\n",
              "      <td>House Dem Aide: We Didn’t Even See Comey’s Let...</td>\n",
              "      <td>1</td>\n",
              "    </tr>\n",
              "    <tr>\n",
              "      <th>1</th>\n",
              "      <td>1</td>\n",
              "      <td>FLYNN: Hillary Clinton, Big Woman on Campus - ...</td>\n",
              "      <td>Daniel J. Flynn</td>\n",
              "      <td>Ever get the feeling your life circles the rou...</td>\n",
              "      <td>0</td>\n",
              "    </tr>\n",
              "    <tr>\n",
              "      <th>2</th>\n",
              "      <td>2</td>\n",
              "      <td>Why the Truth Might Get You Fired</td>\n",
              "      <td>Consortiumnews.com</td>\n",
              "      <td>Why the Truth Might Get You Fired October 29, ...</td>\n",
              "      <td>1</td>\n",
              "    </tr>\n",
              "    <tr>\n",
              "      <th>3</th>\n",
              "      <td>3</td>\n",
              "      <td>15 Civilians Killed In Single US Airstrike Hav...</td>\n",
              "      <td>Jessica Purkiss</td>\n",
              "      <td>Videos 15 Civilians Killed In Single US Airstr...</td>\n",
              "      <td>1</td>\n",
              "    </tr>\n",
              "    <tr>\n",
              "      <th>4</th>\n",
              "      <td>4</td>\n",
              "      <td>Iranian woman jailed for fictional unpublished...</td>\n",
              "      <td>Howard Portnoy</td>\n",
              "      <td>Print \\nAn Iranian woman has been sentenced to...</td>\n",
              "      <td>1</td>\n",
              "    </tr>\n",
              "  </tbody>\n",
              "</table>\n",
              "</div>"
            ],
            "text/plain": [
              "   id                                              title              author  \\\n",
              "0   0  House Dem Aide: We Didn’t Even See Comey’s Let...       Darrell Lucus   \n",
              "1   1  FLYNN: Hillary Clinton, Big Woman on Campus - ...     Daniel J. Flynn   \n",
              "2   2                  Why the Truth Might Get You Fired  Consortiumnews.com   \n",
              "3   3  15 Civilians Killed In Single US Airstrike Hav...     Jessica Purkiss   \n",
              "4   4  Iranian woman jailed for fictional unpublished...      Howard Portnoy   \n",
              "\n",
              "                                                text  label  \n",
              "0  House Dem Aide: We Didn’t Even See Comey’s Let...      1  \n",
              "1  Ever get the feeling your life circles the rou...      0  \n",
              "2  Why the Truth Might Get You Fired October 29, ...      1  \n",
              "3  Videos 15 Civilians Killed In Single US Airstr...      1  \n",
              "4  Print \\nAn Iranian woman has been sentenced to...      1  "
            ]
          },
          "metadata": {
            "tags": []
          },
          "execution_count": 44
        }
      ]
    },
    {
      "metadata": {
        "id": "krnfQVuVWtKa",
        "colab_type": "code",
        "colab": {
          "base_uri": "https://localhost:8080/",
          "height": 198
        },
        "outputId": "174c79ce-6f38-41f1-e7f8-11dbfb1e37cb"
      },
      "cell_type": "code",
      "source": [
        "test = pd.read_csv('test.csv?token=AcjiTZknxG_W1-9YmnE6V9HSgBkxaIJgks5bl-aEwA%3D%3D')\n",
        "test.head()"
      ],
      "execution_count": 45,
      "outputs": [
        {
          "output_type": "execute_result",
          "data": {
            "text/html": [
              "<div>\n",
              "<style scoped>\n",
              "    .dataframe tbody tr th:only-of-type {\n",
              "        vertical-align: middle;\n",
              "    }\n",
              "\n",
              "    .dataframe tbody tr th {\n",
              "        vertical-align: top;\n",
              "    }\n",
              "\n",
              "    .dataframe thead th {\n",
              "        text-align: right;\n",
              "    }\n",
              "</style>\n",
              "<table border=\"1\" class=\"dataframe\">\n",
              "  <thead>\n",
              "    <tr style=\"text-align: right;\">\n",
              "      <th></th>\n",
              "      <th>id</th>\n",
              "      <th>title</th>\n",
              "      <th>author</th>\n",
              "      <th>text</th>\n",
              "    </tr>\n",
              "  </thead>\n",
              "  <tbody>\n",
              "    <tr>\n",
              "      <th>0</th>\n",
              "      <td>20800</td>\n",
              "      <td>Specter of Trump Loosens Tongues, if Not Purse...</td>\n",
              "      <td>David Streitfeld</td>\n",
              "      <td>PALO ALTO, Calif.  —   After years of scorning...</td>\n",
              "    </tr>\n",
              "    <tr>\n",
              "      <th>1</th>\n",
              "      <td>20801</td>\n",
              "      <td>Russian warships ready to strike terrorists ne...</td>\n",
              "      <td>NaN</td>\n",
              "      <td>Russian warships ready to strike terrorists ne...</td>\n",
              "    </tr>\n",
              "    <tr>\n",
              "      <th>2</th>\n",
              "      <td>20802</td>\n",
              "      <td>#NoDAPL: Native American Leaders Vow to Stay A...</td>\n",
              "      <td>Common Dreams</td>\n",
              "      <td>Videos #NoDAPL: Native American Leaders Vow to...</td>\n",
              "    </tr>\n",
              "    <tr>\n",
              "      <th>3</th>\n",
              "      <td>20803</td>\n",
              "      <td>Tim Tebow Will Attempt Another Comeback, This ...</td>\n",
              "      <td>Daniel Victor</td>\n",
              "      <td>If at first you don’t succeed, try a different...</td>\n",
              "    </tr>\n",
              "    <tr>\n",
              "      <th>4</th>\n",
              "      <td>20804</td>\n",
              "      <td>Keiser Report: Meme Wars (E995)</td>\n",
              "      <td>Truth Broadcast Network</td>\n",
              "      <td>42 mins ago 1 Views 0 Comments 0 Likes 'For th...</td>\n",
              "    </tr>\n",
              "  </tbody>\n",
              "</table>\n",
              "</div>"
            ],
            "text/plain": [
              "      id                                              title  \\\n",
              "0  20800  Specter of Trump Loosens Tongues, if Not Purse...   \n",
              "1  20801  Russian warships ready to strike terrorists ne...   \n",
              "2  20802  #NoDAPL: Native American Leaders Vow to Stay A...   \n",
              "3  20803  Tim Tebow Will Attempt Another Comeback, This ...   \n",
              "4  20804                    Keiser Report: Meme Wars (E995)   \n",
              "\n",
              "                    author                                               text  \n",
              "0         David Streitfeld  PALO ALTO, Calif.  —   After years of scorning...  \n",
              "1                      NaN  Russian warships ready to strike terrorists ne...  \n",
              "2            Common Dreams  Videos #NoDAPL: Native American Leaders Vow to...  \n",
              "3            Daniel Victor  If at first you don’t succeed, try a different...  \n",
              "4  Truth Broadcast Network  42 mins ago 1 Views 0 Comments 0 Likes 'For th...  "
            ]
          },
          "metadata": {
            "tags": []
          },
          "execution_count": 45
        }
      ]
    },
    {
      "metadata": {
        "id": "VHrgcaIoVBcA",
        "colab_type": "text"
      },
      "cell_type": "markdown",
      "source": [
        "###Unreliable = 1\n",
        "###Reliable = 0"
      ]
    },
    {
      "metadata": {
        "id": "JCL7co2XZefy",
        "colab_type": "text"
      },
      "cell_type": "markdown",
      "source": [
        "##Plots"
      ]
    },
    {
      "metadata": {
        "id": "lmP8dsQC1fHh",
        "colab_type": "code",
        "colab": {}
      },
      "cell_type": "code",
      "source": [
        "train_no_id = train.drop('id', axis = 1)"
      ],
      "execution_count": 0,
      "outputs": []
    },
    {
      "metadata": {
        "id": "72oyrPj-tqsv",
        "colab_type": "code",
        "colab": {
          "base_uri": "https://localhost:8080/",
          "height": 35
        },
        "outputId": "74ea1502-e3ca-46ad-e87e-a99c820a20ee"
      },
      "cell_type": "code",
      "source": [
        "for_graph_fake = train_no_id.groupby(by = 'author', axis = 0, as_index = False).sum()\n",
        "for_graph_fake.columns"
      ],
      "execution_count": 47,
      "outputs": [
        {
          "output_type": "execute_result",
          "data": {
            "text/plain": [
              "Index(['author', 'label'], dtype='object')"
            ]
          },
          "metadata": {
            "tags": []
          },
          "execution_count": 47
        }
      ]
    },
    {
      "metadata": {
        "id": "lWSMnp2N28_5",
        "colab_type": "text"
      },
      "cell_type": "markdown",
      "source": [
        "** for_graph_fake Gives a relationship between authors and the number of 'unreliable' (fake) news from them.**"
      ]
    },
    {
      "metadata": {
        "id": "yYVD7qK7235_",
        "colab_type": "code",
        "colab": {
          "base_uri": "https://localhost:8080/",
          "height": 198
        },
        "outputId": "d63009b9-68f5-465d-9540-a238a98c9519"
      },
      "cell_type": "code",
      "source": [
        "for_graph_fake.head()"
      ],
      "execution_count": 48,
      "outputs": [
        {
          "output_type": "execute_result",
          "data": {
            "text/html": [
              "<div>\n",
              "<style scoped>\n",
              "    .dataframe tbody tr th:only-of-type {\n",
              "        vertical-align: middle;\n",
              "    }\n",
              "\n",
              "    .dataframe tbody tr th {\n",
              "        vertical-align: top;\n",
              "    }\n",
              "\n",
              "    .dataframe thead th {\n",
              "        text-align: right;\n",
              "    }\n",
              "</style>\n",
              "<table border=\"1\" class=\"dataframe\">\n",
              "  <thead>\n",
              "    <tr style=\"text-align: right;\">\n",
              "      <th></th>\n",
              "      <th>author</th>\n",
              "      <th>label</th>\n",
              "    </tr>\n",
              "  </thead>\n",
              "  <tbody>\n",
              "    <tr>\n",
              "      <th>0</th>\n",
              "      <td># 1 NWO Hatr</td>\n",
              "      <td>17</td>\n",
              "    </tr>\n",
              "    <tr>\n",
              "      <th>1</th>\n",
              "      <td>-NO AUTHOR-</td>\n",
              "      <td>54</td>\n",
              "    </tr>\n",
              "    <tr>\n",
              "      <th>2</th>\n",
              "      <td>10 Habits That Will Make Your Life Easier &amp;amp...</td>\n",
              "      <td>1</td>\n",
              "    </tr>\n",
              "    <tr>\n",
              "      <th>3</th>\n",
              "      <td>10 More Beautiful Images That Remind You We St...</td>\n",
              "      <td>1</td>\n",
              "    </tr>\n",
              "    <tr>\n",
              "      <th>4</th>\n",
              "      <td>10 Movies That Could Change Your Understanding...</td>\n",
              "      <td>1</td>\n",
              "    </tr>\n",
              "  </tbody>\n",
              "</table>\n",
              "</div>"
            ],
            "text/plain": [
              "                                              author  label\n",
              "0                                       # 1 NWO Hatr     17\n",
              "1                                        -NO AUTHOR-     54\n",
              "2  10 Habits That Will Make Your Life Easier &amp...      1\n",
              "3  10 More Beautiful Images That Remind You We St...      1\n",
              "4  10 Movies That Could Change Your Understanding...      1"
            ]
          },
          "metadata": {
            "tags": []
          },
          "execution_count": 48
        }
      ]
    },
    {
      "metadata": {
        "id": "b8pKoLmT3YaQ",
        "colab_type": "text"
      },
      "cell_type": "markdown",
      "source": [
        "**Just one value in the graph, is above 100, this could have been a discrepancy**"
      ]
    },
    {
      "metadata": {
        "id": "0vol34ecuTHg",
        "colab_type": "code",
        "colab": {
          "base_uri": "https://localhost:8080/",
          "height": 289
        },
        "outputId": "d181ad3d-715e-43c4-eb84-cc2a5f0efb39"
      },
      "cell_type": "code",
      "source": [
        "for_graph_fake.plot(x = 'author', y = 'label', kind = 'line')"
      ],
      "execution_count": 49,
      "outputs": [
        {
          "output_type": "execute_result",
          "data": {
            "text/plain": [
              "<matplotlib.axes._subplots.AxesSubplot at 0x7fa5e3f48f60>"
            ]
          },
          "metadata": {
            "tags": []
          },
          "execution_count": 49
        },
        {
          "output_type": "display_data",
          "data": {
            "image/png": "[encoded data removed]",
            "text/plain": [
              "<matplotlib.figure.Figure at 0x7fa5e3fbb208>"
            ]
          },
          "metadata": {
            "tags": []
          }
        }
      ]
    },
    {
      "metadata": {
        "id": "Vvp3KYJ1v7f6",
        "colab_type": "code",
        "colab": {
          "base_uri": "https://localhost:8080/",
          "height": 35
        },
        "outputId": "cacbced7-f53d-4e3f-9f67-9e420aa9649e"
      },
      "cell_type": "code",
      "source": [
        "len(for_graph_fake)"
      ],
      "execution_count": 50,
      "outputs": [
        {
          "output_type": "execute_result",
          "data": {
            "text/plain": [
              "4201"
            ]
          },
          "metadata": {
            "tags": []
          },
          "execution_count": 50
        }
      ]
    },
    {
      "metadata": {
        "id": "qSR4m9FG3v9d",
        "colab_type": "text"
      },
      "cell_type": "markdown",
      "source": [
        "**nlargest is used to get n largest values in a df**"
      ]
    },
    {
      "metadata": {
        "id": "r-eiUlJkwVuh",
        "colab_type": "code",
        "colab": {
          "base_uri": "https://localhost:8080/",
          "height": 72
        },
        "outputId": "2c03e10e-3f30-464a-a314-c41216b6735d"
      },
      "cell_type": "code",
      "source": [
        "for_graph_fake['label'].nlargest(n = 2, keep = 'first')"
      ],
      "execution_count": 51,
      "outputs": [
        {
          "output_type": "execute_result",
          "data": {
            "text/plain": [
              "3929    193\n",
              "2939     86\n",
              "Name: label, dtype: int64"
            ]
          },
          "metadata": {
            "tags": []
          },
          "execution_count": 51
        }
      ]
    },
    {
      "metadata": {
        "id": "MaPkILplzNcR",
        "colab_type": "code",
        "colab": {
          "base_uri": "https://localhost:8080/",
          "height": 198
        },
        "outputId": "2291f179-c3d0-4d0c-f95a-b7ec5de9a82d"
      },
      "cell_type": "code",
      "source": [
        "for_graph_fake.head()"
      ],
      "execution_count": 52,
      "outputs": [
        {
          "output_type": "execute_result",
          "data": {
            "text/html": [
              "<div>\n",
              "<style scoped>\n",
              "    .dataframe tbody tr th:only-of-type {\n",
              "        vertical-align: middle;\n",
              "    }\n",
              "\n",
              "    .dataframe tbody tr th {\n",
              "        vertical-align: top;\n",
              "    }\n",
              "\n",
              "    .dataframe thead th {\n",
              "        text-align: right;\n",
              "    }\n",
              "</style>\n",
              "<table border=\"1\" class=\"dataframe\">\n",
              "  <thead>\n",
              "    <tr style=\"text-align: right;\">\n",
              "      <th></th>\n",
              "      <th>author</th>\n",
              "      <th>label</th>\n",
              "    </tr>\n",
              "  </thead>\n",
              "  <tbody>\n",
              "    <tr>\n",
              "      <th>0</th>\n",
              "      <td># 1 NWO Hatr</td>\n",
              "      <td>17</td>\n",
              "    </tr>\n",
              "    <tr>\n",
              "      <th>1</th>\n",
              "      <td>-NO AUTHOR-</td>\n",
              "      <td>54</td>\n",
              "    </tr>\n",
              "    <tr>\n",
              "      <th>2</th>\n",
              "      <td>10 Habits That Will Make Your Life Easier &amp;amp...</td>\n",
              "      <td>1</td>\n",
              "    </tr>\n",
              "    <tr>\n",
              "      <th>3</th>\n",
              "      <td>10 More Beautiful Images That Remind You We St...</td>\n",
              "      <td>1</td>\n",
              "    </tr>\n",
              "    <tr>\n",
              "      <th>4</th>\n",
              "      <td>10 Movies That Could Change Your Understanding...</td>\n",
              "      <td>1</td>\n",
              "    </tr>\n",
              "  </tbody>\n",
              "</table>\n",
              "</div>"
            ],
            "text/plain": [
              "                                              author  label\n",
              "0                                       # 1 NWO Hatr     17\n",
              "1                                        -NO AUTHOR-     54\n",
              "2  10 Habits That Will Make Your Life Easier &amp...      1\n",
              "3  10 More Beautiful Images That Remind You We St...      1\n",
              "4  10 Movies That Could Change Your Understanding...      1"
            ]
          },
          "metadata": {
            "tags": []
          },
          "execution_count": 52
        }
      ]
    },
    {
      "metadata": {
        "id": "9Nu_dCIG4G4e",
        "colab_type": "text"
      },
      "cell_type": "markdown",
      "source": [
        "**'Shoot First Ask Later' is the author with maximum number of 'unreliable' news**"
      ]
    },
    {
      "metadata": {
        "id": "ZErHRl9iz2VT",
        "colab_type": "code",
        "colab": {
          "base_uri": "https://localhost:8080/",
          "height": 72
        },
        "outputId": "8fd42e8a-9b9a-48d4-973f-4a6f3ac70df0"
      },
      "cell_type": "code",
      "source": [
        "for_graph_fake.max()"
      ],
      "execution_count": 53,
      "outputs": [
        {
          "output_type": "execute_result",
          "data": {
            "text/plain": [
              "author    “Shoot First Ask Questions Later” : What Happe...\n",
              "label                                                   193\n",
              "dtype: object"
            ]
          },
          "metadata": {
            "tags": []
          },
          "execution_count": 53
        }
      ]
    },
    {
      "metadata": {
        "id": "Zq8pJMl94Znn",
        "colab_type": "text"
      },
      "cell_type": "markdown",
      "source": [
        "**To make sure that value is unreliable we must use mean as a criteria instead of sum**"
      ]
    },
    {
      "metadata": {
        "id": "IvJ_XxoXz7zJ",
        "colab_type": "code",
        "colab": {
          "base_uri": "https://localhost:8080/",
          "height": 198
        },
        "outputId": "b4f01200-68a8-466d-ad6f-21002f1c51c2"
      },
      "cell_type": "code",
      "source": [
        "for_graph_total = train.groupby('author', axis = 0, as_index = False).count().loc[:,['author','label']]\n",
        "for_graph_total.head()"
      ],
      "execution_count": 54,
      "outputs": [
        {
          "output_type": "execute_result",
          "data": {
            "text/html": [
              "<div>\n",
              "<style scoped>\n",
              "    .dataframe tbody tr th:only-of-type {\n",
              "        vertical-align: middle;\n",
              "    }\n",
              "\n",
              "    .dataframe tbody tr th {\n",
              "        vertical-align: top;\n",
              "    }\n",
              "\n",
              "    .dataframe thead th {\n",
              "        text-align: right;\n",
              "    }\n",
              "</style>\n",
              "<table border=\"1\" class=\"dataframe\">\n",
              "  <thead>\n",
              "    <tr style=\"text-align: right;\">\n",
              "      <th></th>\n",
              "      <th>author</th>\n",
              "      <th>label</th>\n",
              "    </tr>\n",
              "  </thead>\n",
              "  <tbody>\n",
              "    <tr>\n",
              "      <th>0</th>\n",
              "      <td># 1 NWO Hatr</td>\n",
              "      <td>17</td>\n",
              "    </tr>\n",
              "    <tr>\n",
              "      <th>1</th>\n",
              "      <td>-NO AUTHOR-</td>\n",
              "      <td>54</td>\n",
              "    </tr>\n",
              "    <tr>\n",
              "      <th>2</th>\n",
              "      <td>10 Habits That Will Make Your Life Easier &amp;amp...</td>\n",
              "      <td>1</td>\n",
              "    </tr>\n",
              "    <tr>\n",
              "      <th>3</th>\n",
              "      <td>10 More Beautiful Images That Remind You We St...</td>\n",
              "      <td>1</td>\n",
              "    </tr>\n",
              "    <tr>\n",
              "      <th>4</th>\n",
              "      <td>10 Movies That Could Change Your Understanding...</td>\n",
              "      <td>1</td>\n",
              "    </tr>\n",
              "  </tbody>\n",
              "</table>\n",
              "</div>"
            ],
            "text/plain": [
              "                                              author  label\n",
              "0                                       # 1 NWO Hatr     17\n",
              "1                                        -NO AUTHOR-     54\n",
              "2  10 Habits That Will Make Your Life Easier &amp...      1\n",
              "3  10 More Beautiful Images That Remind You We St...      1\n",
              "4  10 Movies That Could Change Your Understanding...      1"
            ]
          },
          "metadata": {
            "tags": []
          },
          "execution_count": 54
        }
      ]
    },
    {
      "metadata": {
        "id": "xYCed-h71VWH",
        "colab_type": "code",
        "colab": {}
      },
      "cell_type": "code",
      "source": [
        "#for_graph_mean = train_no_id.groupby(by = 'author', axis = 0, as_index = False)['label'].sum()/train.groupby('author', axis = 0, as_index = False).count()['label']"
      ],
      "execution_count": 0,
      "outputs": []
    },
    {
      "metadata": {
        "id": "zbZbQRdP2ZvI",
        "colab_type": "code",
        "colab": {}
      },
      "cell_type": "code",
      "source": [
        "#for_graph_mean"
      ],
      "execution_count": 0,
      "outputs": []
    },
    {
      "metadata": {
        "id": "32OS_uTRjkv0",
        "colab_type": "code",
        "colab": {
          "base_uri": "https://localhost:8080/",
          "height": 198
        },
        "outputId": "02c10e43-80bf-40a0-f7a4-28826e1768fb"
      },
      "cell_type": "code",
      "source": [
        "train.head()"
      ],
      "execution_count": 57,
      "outputs": [
        {
          "output_type": "execute_result",
          "data": {
            "text/html": [
              "<div>\n",
              "<style scoped>\n",
              "    .dataframe tbody tr th:only-of-type {\n",
              "        vertical-align: middle;\n",
              "    }\n",
              "\n",
              "    .dataframe tbody tr th {\n",
              "        vertical-align: top;\n",
              "    }\n",
              "\n",
              "    .dataframe thead th {\n",
              "        text-align: right;\n",
              "    }\n",
              "</style>\n",
              "<table border=\"1\" class=\"dataframe\">\n",
              "  <thead>\n",
              "    <tr style=\"text-align: right;\">\n",
              "      <th></th>\n",
              "      <th>id</th>\n",
              "      <th>title</th>\n",
              "      <th>author</th>\n",
              "      <th>text</th>\n",
              "      <th>label</th>\n",
              "    </tr>\n",
              "  </thead>\n",
              "  <tbody>\n",
              "    <tr>\n",
              "      <th>0</th>\n",
              "      <td>0</td>\n",
              "      <td>House Dem Aide: We Didn’t Even See Comey’s Let...</td>\n",
              "      <td>Darrell Lucus</td>\n",
              "      <td>House Dem Aide: We Didn’t Even See Comey’s Let...</td>\n",
              "      <td>1</td>\n",
              "    </tr>\n",
              "    <tr>\n",
              "      <th>1</th>\n",
              "      <td>1</td>\n",
              "      <td>FLYNN: Hillary Clinton, Big Woman on Campus - ...</td>\n",
              "      <td>Daniel J. Flynn</td>\n",
              "      <td>Ever get the feeling your life circles the rou...</td>\n",
              "      <td>0</td>\n",
              "    </tr>\n",
              "    <tr>\n",
              "      <th>2</th>\n",
              "      <td>2</td>\n",
              "      <td>Why the Truth Might Get You Fired</td>\n",
              "      <td>Consortiumnews.com</td>\n",
              "      <td>Why the Truth Might Get You Fired October 29, ...</td>\n",
              "      <td>1</td>\n",
              "    </tr>\n",
              "    <tr>\n",
              "      <th>3</th>\n",
              "      <td>3</td>\n",
              "      <td>15 Civilians Killed In Single US Airstrike Hav...</td>\n",
              "      <td>Jessica Purkiss</td>\n",
              "      <td>Videos 15 Civilians Killed In Single US Airstr...</td>\n",
              "      <td>1</td>\n",
              "    </tr>\n",
              "    <tr>\n",
              "      <th>4</th>\n",
              "      <td>4</td>\n",
              "      <td>Iranian woman jailed for fictional unpublished...</td>\n",
              "      <td>Howard Portnoy</td>\n",
              "      <td>Print \\nAn Iranian woman has been sentenced to...</td>\n",
              "      <td>1</td>\n",
              "    </tr>\n",
              "  </tbody>\n",
              "</table>\n",
              "</div>"
            ],
            "text/plain": [
              "   id                                              title              author  \\\n",
              "0   0  House Dem Aide: We Didn’t Even See Comey’s Let...       Darrell Lucus   \n",
              "1   1  FLYNN: Hillary Clinton, Big Woman on Campus - ...     Daniel J. Flynn   \n",
              "2   2                  Why the Truth Might Get You Fired  Consortiumnews.com   \n",
              "3   3  15 Civilians Killed In Single US Airstrike Hav...     Jessica Purkiss   \n",
              "4   4  Iranian woman jailed for fictional unpublished...      Howard Portnoy   \n",
              "\n",
              "                                                text  label  \n",
              "0  House Dem Aide: We Didn’t Even See Comey’s Let...      1  \n",
              "1  Ever get the feeling your life circles the rou...      0  \n",
              "2  Why the Truth Might Get You Fired October 29, ...      1  \n",
              "3  Videos 15 Civilians Killed In Single US Airstr...      1  \n",
              "4  Print \\nAn Iranian woman has been sentenced to...      1  "
            ]
          },
          "metadata": {
            "tags": []
          },
          "execution_count": 57
        }
      ]
    },
    {
      "metadata": {
        "id": "fVhdXs6_jrzY",
        "colab_type": "code",
        "colab": {}
      },
      "cell_type": "code",
      "source": [
        "import seaborn as sns"
      ],
      "execution_count": 0,
      "outputs": []
    },
    {
      "metadata": {
        "id": "Bk5hRu5BmVUU",
        "colab_type": "code",
        "colab": {}
      },
      "cell_type": "code",
      "source": [
        "plot_data=train.groupby([\"author\",\"label\"]).sum()"
      ],
      "execution_count": 0,
      "outputs": []
    },
    {
      "metadata": {
        "id": "SABwL4JXwrL5",
        "colab_type": "code",
        "colab": {}
      },
      "cell_type": "code",
      "source": [
        "# tried to unstack fake/real author but fake value is too low"
      ],
      "execution_count": 0,
      "outputs": []
    },
    {
      "metadata": {
        "id": "OiJFgmY3pw-k",
        "colab_type": "code",
        "colab": {
          "base_uri": "https://localhost:8080/",
          "height": 871
        },
        "outputId": "273ddfe4-73b9-43b3-91b2-218f1f0cd6d7"
      },
      "cell_type": "code",
      "source": [
        "plot_data.unstack().tail().plot(kind='bar')"
      ],
      "execution_count": 61,
      "outputs": [
        {
          "output_type": "execute_result",
          "data": {
            "text/plain": [
              "<matplotlib.axes._subplots.AxesSubplot at 0x7fa5e42dfe10>"
            ]
          },
          "metadata": {
            "tags": []
          },
          "execution_count": 61
        },
        {
          "output_type": "display_data",
          "data": {
            "image/png": "[encoded data removed]",
            "text/plain": [
              "<matplotlib.figure.Figure at 0x7fa5e3fb8dd8>"
            ]
          },
          "metadata": {
            "tags": []
          }
        }
      ]
    },
    {
      "metadata": {
        "id": "NA4qMUAfIdqz",
        "colab_type": "code",
        "colab": {}
      },
      "cell_type": "code",
      "source": [
        "# we can find the caategories of news using unsuperwised learning , in which we can plot graph of category with max no. of fake news !!!"
      ],
      "execution_count": 0,
      "outputs": []
    },
    {
      "metadata": {
        "id": "IZc9E3O5I_Xb",
        "colab_type": "code",
        "colab": {}
      },
      "cell_type": "code",
      "source": [
        "#You have to specify how many categories you have to divide into. It won't work like that"
      ],
      "execution_count": 0,
      "outputs": []
    },
    {
      "metadata": {
        "id": "bJhXFZYhsLpL",
        "colab_type": "code",
        "colab": {
          "base_uri": "https://localhost:8080/",
          "height": 198
        },
        "outputId": "723088b7-3cd7-473e-d31c-2ebd1c63c5c7"
      },
      "cell_type": "code",
      "source": [
        "train.head()"
      ],
      "execution_count": 64,
      "outputs": [
        {
          "output_type": "execute_result",
          "data": {
            "text/html": [
              "<div>\n",
              "<style scoped>\n",
              "    .dataframe tbody tr th:only-of-type {\n",
              "        vertical-align: middle;\n",
              "    }\n",
              "\n",
              "    .dataframe tbody tr th {\n",
              "        vertical-align: top;\n",
              "    }\n",
              "\n",
              "    .dataframe thead th {\n",
              "        text-align: right;\n",
              "    }\n",
              "</style>\n",
              "<table border=\"1\" class=\"dataframe\">\n",
              "  <thead>\n",
              "    <tr style=\"text-align: right;\">\n",
              "      <th></th>\n",
              "      <th>id</th>\n",
              "      <th>title</th>\n",
              "      <th>author</th>\n",
              "      <th>text</th>\n",
              "      <th>label</th>\n",
              "    </tr>\n",
              "  </thead>\n",
              "  <tbody>\n",
              "    <tr>\n",
              "      <th>0</th>\n",
              "      <td>0</td>\n",
              "      <td>House Dem Aide: We Didn’t Even See Comey’s Let...</td>\n",
              "      <td>Darrell Lucus</td>\n",
              "      <td>House Dem Aide: We Didn’t Even See Comey’s Let...</td>\n",
              "      <td>1</td>\n",
              "    </tr>\n",
              "    <tr>\n",
              "      <th>1</th>\n",
              "      <td>1</td>\n",
              "      <td>FLYNN: Hillary Clinton, Big Woman on Campus - ...</td>\n",
              "      <td>Daniel J. Flynn</td>\n",
              "      <td>Ever get the feeling your life circles the rou...</td>\n",
              "      <td>0</td>\n",
              "    </tr>\n",
              "    <tr>\n",
              "      <th>2</th>\n",
              "      <td>2</td>\n",
              "      <td>Why the Truth Might Get You Fired</td>\n",
              "      <td>Consortiumnews.com</td>\n",
              "      <td>Why the Truth Might Get You Fired October 29, ...</td>\n",
              "      <td>1</td>\n",
              "    </tr>\n",
              "    <tr>\n",
              "      <th>3</th>\n",
              "      <td>3</td>\n",
              "      <td>15 Civilians Killed In Single US Airstrike Hav...</td>\n",
              "      <td>Jessica Purkiss</td>\n",
              "      <td>Videos 15 Civilians Killed In Single US Airstr...</td>\n",
              "      <td>1</td>\n",
              "    </tr>\n",
              "    <tr>\n",
              "      <th>4</th>\n",
              "      <td>4</td>\n",
              "      <td>Iranian woman jailed for fictional unpublished...</td>\n",
              "      <td>Howard Portnoy</td>\n",
              "      <td>Print \\nAn Iranian woman has been sentenced to...</td>\n",
              "      <td>1</td>\n",
              "    </tr>\n",
              "  </tbody>\n",
              "</table>\n",
              "</div>"
            ],
            "text/plain": [
              "   id                                              title              author  \\\n",
              "0   0  House Dem Aide: We Didn’t Even See Comey’s Let...       Darrell Lucus   \n",
              "1   1  FLYNN: Hillary Clinton, Big Woman on Campus - ...     Daniel J. Flynn   \n",
              "2   2                  Why the Truth Might Get You Fired  Consortiumnews.com   \n",
              "3   3  15 Civilians Killed In Single US Airstrike Hav...     Jessica Purkiss   \n",
              "4   4  Iranian woman jailed for fictional unpublished...      Howard Portnoy   \n",
              "\n",
              "                                                text  label  \n",
              "0  House Dem Aide: We Didn’t Even See Comey’s Let...      1  \n",
              "1  Ever get the feeling your life circles the rou...      0  \n",
              "2  Why the Truth Might Get You Fired October 29, ...      1  \n",
              "3  Videos 15 Civilians Killed In Single US Airstr...      1  \n",
              "4  Print \\nAn Iranian woman has been sentenced to...      1  "
            ]
          },
          "metadata": {
            "tags": []
          },
          "execution_count": 64
        }
      ]
    },
    {
      "metadata": {
        "id": "9-wyyf7JsWZB",
        "colab_type": "code",
        "colab": {
          "base_uri": "https://localhost:8080/",
          "height": 1163
        },
        "outputId": "82347c5d-9928-441a-f600-4ce99a3fdc4f"
      },
      "cell_type": "code",
      "source": [
        "train.groupby('author')['label'].sum()"
      ],
      "execution_count": 65,
      "outputs": [
        {
          "output_type": "execute_result",
          "data": {
            "text/plain": [
              "author\n",
              "# 1 NWO Hatr                                                                                                                          17\n",
              "-NO AUTHOR-                                                                                                                           54\n",
              "10 Habits That Will Make Your Life Easier &amp; More Peaceful - Wellness Solutions                                                     1\n",
              "10 More Beautiful Images That Remind You We Still Live In A Beautiful World, With Beautiful People - Upside Down Media                 1\n",
              "10 Movies That Could Change Your Understanding Of Life - Upside Down Media                                                             1\n",
              "10 Nutritious Foods That Help Reduce Asthma Attacks &amp; Boost Your Health - Health Alternative Solutions                             1\n",
              "10 Presidents &amp; Politicians Who Told Us That A “Secret Government” Controls The World &amp; What They Said - Upside Down Media     1\n",
              "10 Shocking Facts About Society That We Absurdly Accept As Normal – Digital Flow                                                       1\n",
              "11 Things To Let Go Of Before The New Year                                                                                             1\n",
              "11 Things To Let Go Of Before The New Year – Motivate3.com                                                                             1\n",
              "1777                                                                                                                                   2\n",
              "19 Documentaries That Will Have An Impact On Your Life | Coffs Coast Health Club                                                       1\n",
              "1980XLS                                                                                                                                2\n",
              "1A. The History and Future of Sleep:                                                                                                   1\n",
              "2012newstart                                                                                                                           1\n",
              "2noxtnt                                                                                                                                2\n",
              "3 Easy Salad Recipes To Help Control Diabetes – Collective Evolution | intopurification                                                1\n",
              "4 Goals For The Neomasculinity Movement During Trump’s First Term                                                                      1\n",
              "4 of the Best Kinds of Milk That Aren’t Dairy – Collective Evolution | APG Editorial                                                   1\n",
              "5 Ways You Can Start Feeling Better About Yourself Right Now – Collective Evolution                                                    1\n",
              "500 Year Old Map Discovered Shatters The Official History Of The Human Race                                                            1\n",
              "6 Steps to Becoming the Best Leader Possible – Motivate3.com                                                                           1\n",
              "7 Harsh Realities That Come With Taking Full Responsibility For Your Life – Motivate3.com                                              1\n",
              ":ohemad: (UID 73271507)                                                                                                                1\n",
              "A Jew (UID 73270427)                                                                                                                   1\n",
              "A. F. Branco                                                                                                                           1\n",
              "A. Griffee                                                                                                                             1\n",
              "A. Maren                                                                                                                               6\n",
              "A. O. Scott                                                                                                                            0\n",
              "A.D.H.D. NATION: HOW BIG PHARMA CREATED THE A.D.H.D. EPIDEMIC - Black Barth                                                            1\n",
              "                                                                                                                                      ..\n",
              "william ketly                                                                                                                          1\n",
              "willz                                                                                                                                  1\n",
              "wjfox                                                                                                                                  1\n",
              "wmw_admin                                                                                                                             51\n",
              "wtromp@operamail.com (WT)                                                                                                              3\n",
              "xuenchen                                                                                                                               3\n",
              "xxux                                                                                                                                   1\n",
              "youknowwho.                                                                                                                            1\n",
              "Óscar Martínez, Efren Lemus, Carlos Martínez and Deborah Sontag                                                                        0\n",
              "Τιερί Μεϊσάν                                                                                                                           1\n",
              "ελευθερία                                                                                                                              1\n",
              "Алла Белькевич                                                                                                                         4\n",
              "Андрей Иванов                                                                                                                          1\n",
              "Ариэль Нойола Родригес                                                                                                                 1\n",
              "Влада Крутова                                                                                                                          1\n",
              "Владимир В. Путин                                                                                                                      1\n",
              "Галина Солнцева                                                                                                                        2\n",
              "Евстахий Стахович                                                                                                                      1\n",
              "Жанна Ивченко                                                                                                                          4\n",
              "Ирина Солетова                                                                                                                         1\n",
              "Леонтина Литвинова                                                                                                                     4\n",
              "Светлана Якн                                                                                                                           2\n",
              "Тьерри Мейсан                                                                                                                          2\n",
              "Юлия Громова                                                                                                                           2\n",
              "برنامه ریزی ضمیر ناخوداگاه                                                                                                             1\n",
              "تييري ميسان                                                                                                                            1\n",
              "جنگ ارزی آمریکا علیه ایران / مورد مطالعاتی سال 1390 - کدآمایی                                                                          1\n",
              "سعيد هلال الشريفي                                                                                                                      1\n",
              "“SHOOT FIRST ASK QUESTIONS LATER” : WHAT HAPPENS TO A UFO WHEN TRACKED ON MILITARY RADAR - Black Barth                                 1\n",
              "“Shoot First Ask Questions Later” : What Happens To A UFO When Tracked on Military Radar – Mystical Shire                              1\n",
              "Name: label, Length: 4201, dtype: int64"
            ]
          },
          "metadata": {
            "tags": []
          },
          "execution_count": 65
        }
      ]
    },
    {
      "metadata": {
        "id": "5k1rLkpIvt5Q",
        "colab_type": "code",
        "colab": {
          "base_uri": "https://localhost:8080/",
          "height": 198
        },
        "outputId": "0988ebc7-d64b-4b22-fc31-206c0ca0637c"
      },
      "cell_type": "code",
      "source": [
        "train.head()"
      ],
      "execution_count": 66,
      "outputs": [
        {
          "output_type": "execute_result",
          "data": {
            "text/html": [
              "<div>\n",
              "<style scoped>\n",
              "    .dataframe tbody tr th:only-of-type {\n",
              "        vertical-align: middle;\n",
              "    }\n",
              "\n",
              "    .dataframe tbody tr th {\n",
              "        vertical-align: top;\n",
              "    }\n",
              "\n",
              "    .dataframe thead th {\n",
              "        text-align: right;\n",
              "    }\n",
              "</style>\n",
              "<table border=\"1\" class=\"dataframe\">\n",
              "  <thead>\n",
              "    <tr style=\"text-align: right;\">\n",
              "      <th></th>\n",
              "      <th>id</th>\n",
              "      <th>title</th>\n",
              "      <th>author</th>\n",
              "      <th>text</th>\n",
              "      <th>label</th>\n",
              "    </tr>\n",
              "  </thead>\n",
              "  <tbody>\n",
              "    <tr>\n",
              "      <th>0</th>\n",
              "      <td>0</td>\n",
              "      <td>House Dem Aide: We Didn’t Even See Comey’s Let...</td>\n",
              "      <td>Darrell Lucus</td>\n",
              "      <td>House Dem Aide: We Didn’t Even See Comey’s Let...</td>\n",
              "      <td>1</td>\n",
              "    </tr>\n",
              "    <tr>\n",
              "      <th>1</th>\n",
              "      <td>1</td>\n",
              "      <td>FLYNN: Hillary Clinton, Big Woman on Campus - ...</td>\n",
              "      <td>Daniel J. Flynn</td>\n",
              "      <td>Ever get the feeling your life circles the rou...</td>\n",
              "      <td>0</td>\n",
              "    </tr>\n",
              "    <tr>\n",
              "      <th>2</th>\n",
              "      <td>2</td>\n",
              "      <td>Why the Truth Might Get You Fired</td>\n",
              "      <td>Consortiumnews.com</td>\n",
              "      <td>Why the Truth Might Get You Fired October 29, ...</td>\n",
              "      <td>1</td>\n",
              "    </tr>\n",
              "    <tr>\n",
              "      <th>3</th>\n",
              "      <td>3</td>\n",
              "      <td>15 Civilians Killed In Single US Airstrike Hav...</td>\n",
              "      <td>Jessica Purkiss</td>\n",
              "      <td>Videos 15 Civilians Killed In Single US Airstr...</td>\n",
              "      <td>1</td>\n",
              "    </tr>\n",
              "    <tr>\n",
              "      <th>4</th>\n",
              "      <td>4</td>\n",
              "      <td>Iranian woman jailed for fictional unpublished...</td>\n",
              "      <td>Howard Portnoy</td>\n",
              "      <td>Print \\nAn Iranian woman has been sentenced to...</td>\n",
              "      <td>1</td>\n",
              "    </tr>\n",
              "  </tbody>\n",
              "</table>\n",
              "</div>"
            ],
            "text/plain": [
              "   id                                              title              author  \\\n",
              "0   0  House Dem Aide: We Didn’t Even See Comey’s Let...       Darrell Lucus   \n",
              "1   1  FLYNN: Hillary Clinton, Big Woman on Campus - ...     Daniel J. Flynn   \n",
              "2   2                  Why the Truth Might Get You Fired  Consortiumnews.com   \n",
              "3   3  15 Civilians Killed In Single US Airstrike Hav...     Jessica Purkiss   \n",
              "4   4  Iranian woman jailed for fictional unpublished...      Howard Portnoy   \n",
              "\n",
              "                                                text  label  \n",
              "0  House Dem Aide: We Didn’t Even See Comey’s Let...      1  \n",
              "1  Ever get the feeling your life circles the rou...      0  \n",
              "2  Why the Truth Might Get You Fired October 29, ...      1  \n",
              "3  Videos 15 Civilians Killed In Single US Airstr...      1  \n",
              "4  Print \\nAn Iranian woman has been sentenced to...      1  "
            ]
          },
          "metadata": {
            "tags": []
          },
          "execution_count": 66
        }
      ]
    },
    {
      "metadata": {
        "id": "QxiZH_MSv0Ho",
        "colab_type": "text"
      },
      "cell_type": "markdown",
      "source": [
        "##Classifiers"
      ]
    },
    {
      "metadata": {
        "id": "L24OIbnXvx6b",
        "colab_type": "code",
        "colab": {}
      },
      "cell_type": "code",
      "source": [
        "from sklearn.model_selection import train_test_split\n",
        "from sklearn.pipeline import Pipeline\n",
        "from sklearn.preprocessing import StandardScaler\n",
        "from sklearn.preprocessing import LabelEncoder\n",
        "\n",
        "\n",
        "#!pip install scikit-learn==0.18.0"
      ],
      "execution_count": 0,
      "outputs": []
    },
    {
      "metadata": {
        "id": "pAP0bd_6qwOZ",
        "colab_type": "code",
        "colab": {}
      },
      "cell_type": "code",
      "source": [
        "from sklearn.feature_extraction.text import CountVectorizer"
      ],
      "execution_count": 0,
      "outputs": []
    },
    {
      "metadata": {
        "id": "Jx_ytjODW8-k",
        "colab_type": "code",
        "colab": {
          "base_uri": "https://localhost:8080/",
          "height": 126
        },
        "outputId": "7eea95d5-31e1-43ac-fa11-115ea9815575"
      },
      "cell_type": "code",
      "source": [
        "train.isnull().sum()"
      ],
      "execution_count": 69,
      "outputs": [
        {
          "output_type": "execute_result",
          "data": {
            "text/plain": [
              "id           0\n",
              "title      558\n",
              "author    1957\n",
              "text        39\n",
              "label        0\n",
              "dtype: int64"
            ]
          },
          "metadata": {
            "tags": []
          },
          "execution_count": 69
        }
      ]
    },
    {
      "metadata": {
        "id": "iZUCVfjcXKBk",
        "colab_type": "code",
        "colab": {}
      },
      "cell_type": "code",
      "source": [
        "train_no_id.dropna(axis = 0, inplace = True)"
      ],
      "execution_count": 0,
      "outputs": []
    },
    {
      "metadata": {
        "id": "dfhxorI4wEAs",
        "colab_type": "code",
        "colab": {}
      },
      "cell_type": "code",
      "source": [
        "X = train_no_id['text']\n",
        "y = train_no_id['label']"
      ],
      "execution_count": 0,
      "outputs": []
    },
    {
      "metadata": {
        "id": "QtQ3ilFousuy",
        "colab_type": "code",
        "colab": {
          "base_uri": "https://localhost:8080/",
          "height": 35
        },
        "outputId": "712eaa39-1b2e-4928-ff78-b1d15def69fa"
      },
      "cell_type": "code",
      "source": [
        "len(X)"
      ],
      "execution_count": 72,
      "outputs": [
        {
          "output_type": "execute_result",
          "data": {
            "text/plain": [
              "18285"
            ]
          },
          "metadata": {
            "tags": []
          },
          "execution_count": 72
        }
      ]
    },
    {
      "metadata": {
        "id": "P018QA76vnAD",
        "colab_type": "code",
        "colab": {}
      },
      "cell_type": "code",
      "source": [
        "#X.dropna(axis = 0,inplace = True)"
      ],
      "execution_count": 0,
      "outputs": []
    },
    {
      "metadata": {
        "id": "4VRBAXSWv6s7",
        "colab_type": "code",
        "colab": {
          "base_uri": "https://localhost:8080/",
          "height": 35
        },
        "outputId": "fa8c42f5-d5f9-4a1b-9267-ba2f9c034845"
      },
      "cell_type": "code",
      "source": [
        "len(X)"
      ],
      "execution_count": 74,
      "outputs": [
        {
          "output_type": "execute_result",
          "data": {
            "text/plain": [
              "18285"
            ]
          },
          "metadata": {
            "tags": []
          },
          "execution_count": 74
        }
      ]
    },
    {
      "metadata": {
        "id": "8b69qXOyrHHF",
        "colab_type": "code",
        "colab": {
          "base_uri": "https://localhost:8080/",
          "height": 54
        },
        "outputId": "d197a417-7e5d-4760-9bfa-5454d441635e"
      },
      "cell_type": "code",
      "source": [
        "vectorizer = CountVectorizer()\n",
        "vectorizer.fit(X)\n",
        "transformed = vectorizer.transform(X)\n",
        "transformed"
      ],
      "execution_count": 75,
      "outputs": [
        {
          "output_type": "execute_result",
          "data": {
            "text/plain": [
              "<18285x160355 sparse matrix of type '<class 'numpy.int64'>'\n",
              "\twith 6338616 stored elements in Compressed Sparse Row format>"
            ]
          },
          "metadata": {
            "tags": []
          },
          "execution_count": 75
        }
      ]
    },
    {
      "metadata": {
        "id": "oxCix61aWIfE",
        "colab_type": "code",
        "colab": {
          "base_uri": "https://localhost:8080/",
          "height": 18217
        },
        "outputId": "1cb5554b-b277-48ef-a2b9-4572065e2e12"
      },
      "cell_type": "code",
      "source": [
        "vectorizer.vocabulary_"
      ],
      "execution_count": 76,
      "outputs": [
        {
          "output_type": "execute_result",
          "data": {
            "text/plain": [
              "{'house': 62275,\n",
              " 'dem': 35298,\n",
              " 'aide': 6317,\n",
              " 'we': 141885,\n",
              " 'didn': 37151,\n",
              " 'even': 45742,\n",
              " 'see': 116933,\n",
              " 'comey': 28174,\n",
              " 'letter': 76500,\n",
              " 'until': 137324,\n",
              " 'jason': 68684,\n",
              " 'chaffetz': 24607,\n",
              " 'tweeted': 134802,\n",
              " 'it': 67914,\n",
              " 'by': 21699,\n",
              " 'darrell': 33772,\n",
              " 'lucus': 78772,\n",
              " 'on': 94003,\n",
              " 'october': 93188,\n",
              " '30': 1826,\n",
              " '2016': 1326,\n",
              " 'subscribe': 126067,\n",
              " 'the': 130506,\n",
              " 'stump': 125741,\n",
              " 'in': 64679,\n",
              " 'american': 8066,\n",
              " 'fork': 50493,\n",
              " 'utah': 137908,\n",
              " 'image': 64068,\n",
              " 'courtesy': 31221,\n",
              " 'michael': 84160,\n",
              " 'jolley': 69713,\n",
              " 'available': 12716,\n",
              " 'under': 135942,\n",
              " 'creative': 31632,\n",
              " 'commons': 28374,\n",
              " 'license': 76864,\n",
              " 'with': 143647,\n",
              " 'apologies': 9765,\n",
              " 'to': 131896,\n",
              " 'keith': 71611,\n",
              " 'olbermann': 93724,\n",
              " 'there': 130733,\n",
              " 'is': 67627,\n",
              " 'no': 91177,\n",
              " 'doubt': 39573,\n",
              " 'who': 142894,\n",
              " 'worst': 144233,\n",
              " 'person': 98927,\n",
              " 'world': 144167,\n",
              " 'this': 130959,\n",
              " 'week': 142047,\n",
              " 'fbi': 47964,\n",
              " 'director': 37661,\n",
              " 'james': 68479,\n",
              " 'but': 21562,\n",
              " 'according': 4604,\n",
              " 'democratic': 35426,\n",
              " 'looks': 78262,\n",
              " 'like': 77093,\n",
              " 'also': 7626,\n",
              " 'know': 73014,\n",
              " 'second': 116784,\n",
              " 'as': 11108,\n",
              " 'well': 142251,\n",
              " 'turns': 134649,\n",
              " 'out': 95229,\n",
              " 'that': 130478,\n",
              " 'when': 142658,\n",
              " 'sent': 117495,\n",
              " 'his': 61121,\n",
              " 'now': 92100,\n",
              " 'infamous': 65431,\n",
              " 'announcing': 9039,\n",
              " 'was': 141592,\n",
              " 'looking': 78259,\n",
              " 'into': 66936,\n",
              " 'emails': 42805,\n",
              " 'may': 82140,\n",
              " 'be': 15179,\n",
              " 'related': 109360,\n",
              " 'hillary': 60880,\n",
              " 'clinton': 27048,\n",
              " 'email': 42799,\n",
              " 'server': 117763,\n",
              " 'ranking': 106986,\n",
              " 'democrats': 35436,\n",
              " 'relevant': 109427,\n",
              " 'committees': 28350,\n",
              " 'hear': 59653,\n",
              " 'about': 4202,\n",
              " 'from': 51555,\n",
              " 'they': 130847,\n",
              " 'found': 50760,\n",
              " 'via': 139554,\n",
              " 'tweet': 134800,\n",
              " 'one': 94040,\n",
              " 'of': 93328,\n",
              " 'republican': 110144,\n",
              " 'committee': 28348,\n",
              " 'chairmen': 24645,\n",
              " 'notified': 91980,\n",
              " 'and': 8555,\n",
              " 'members': 83320,\n",
              " 'intelligence': 66450,\n",
              " 'judiciary': 70079,\n",
              " 'oversight': 95817,\n",
              " 'agency': 5995,\n",
              " 'reviewing': 111032,\n",
              " 'had': 57945,\n",
              " 'recently': 107921,\n",
              " 'discovered': 37929,\n",
              " 'order': 94561,\n",
              " 'if': 63705,\n",
              " 'contained': 29864,\n",
              " 'classified': 26767,\n",
              " 'information': 65611,\n",
              " 'not': 91926,\n",
              " 'long': 78182,\n",
              " 'after': 5918,\n",
              " 'went': 142357,\n",
              " 'chairman': 24641,\n",
              " 'set': 117831,\n",
              " 'political': 101291,\n",
              " 'ablaze': 4111,\n",
              " 'dir': 37631,\n",
              " 'just': 70348,\n",
              " 'informed': 65626,\n",
              " 'me': 82691,\n",
              " 'has': 59108,\n",
              " 'learned': 75790,\n",
              " 'existence': 46280,\n",
              " 'appear': 9854,\n",
              " 'pertinent': 99017,\n",
              " 'investigation': 67168,\n",
              " 'case': 23505,\n",
              " 'reopened': 109807,\n",
              " 'jasoninthehouse': 68688,\n",
              " '28': 1687,\n",
              " 'course': 31204,\n",
              " 'actually': 5031,\n",
              " 'saying': 115339,\n",
              " 'light': 77030,\n",
              " 'an': 8384,\n",
              " 'unrelated': 137027,\n",
              " 'which': 142690,\n",
              " 'anthony': 9247,\n",
              " 'weiner': 142143,\n",
              " 'sexting': 117976,\n",
              " 'teenager': 129550,\n",
              " 'apparently': 9842,\n",
              " 'such': 126256,\n",
              " 'little': 77588,\n",
              " 'things': 130911,\n",
              " 'facts': 47068,\n",
              " 'matter': 81940,\n",
              " 'already': 7606,\n",
              " 'vowed': 140761,\n",
              " 'initiate': 65842,\n",
              " 'raft': 106576,\n",
              " 'investigations': 67170,\n",
              " 'wins': 143483,\n",
              " 'at': 11735,\n",
              " 'least': 75810,\n",
              " 'two': 134888,\n",
              " 'years': 145264,\n",
              " 'worth': 144239,\n",
              " 'possibly': 101990,\n",
              " 'entire': 43984,\n",
              " 'term': 130050,\n",
              " 'them': 130632,\n",
              " 'thought': 131056,\n",
              " 'doing': 39040,\n",
              " 'work': 144112,\n",
              " 'for': 50274,\n",
              " 'him': 60949,\n",
              " 'resulting': 110658,\n",
              " 'briefly': 20191,\n",
              " 'roiled': 112329,\n",
              " 'nation': 89389,\n",
              " 'before': 15520,\n",
              " 'cooler': 30332,\n",
              " 'heads': 59592,\n",
              " 'realized': 107634,\n",
              " 'dud': 40398,\n",
              " 'senior': 117416,\n",
              " 'misreading': 85455,\n",
              " 'have': 59338,\n",
              " 'been': 15478,\n",
              " 'sins': 120287,\n",
              " 'told': 132063,\n",
              " 'shareblue': 118434,\n",
              " 'boss': 19233,\n",
              " 'other': 95104,\n",
              " 'time': 131559,\n",
              " 'only': 94092,\n",
              " 'checked': 25165,\n",
              " 'twitter': 134878,\n",
              " 'receive': 107909,\n",
              " 'fact': 47039,\n",
              " 'government': 55904,\n",
              " 'reform': 108734,\n",
              " 'made': 79576,\n",
              " 'public': 104882,\n",
              " 'so': 121753,\n",
              " 'let': 76466,\n",
              " 've': 138676,\n",
              " 'got': 55814,\n",
              " 'right': 111564,\n",
              " 'tells': 129737,\n",
              " 'gop': 55701,\n",
              " 'major': 80039,\n",
              " 'development': 36708,\n",
              " 'potentially': 102159,\n",
              " 'politically': 101293,\n",
              " 'explosive': 46518,\n",
              " 'neither': 89989,\n",
              " 'nor': 91710,\n",
              " 'colleagues': 27830,\n",
              " 'their': 130612,\n",
              " 'counterparts': 31112,\n",
              " 'instead': 66255,\n",
              " 'he': 59541,\n",
              " 'find': 49012,\n",
              " 'talk': 128567,\n",
              " 'daily': 33333,\n",
              " 'kos': 73520,\n",
              " 'himself': 60965,\n",
              " 'provided': 104462,\n",
              " 'advance': 5559,\n",
              " 'notice': 91970,\n",
              " 'republicans': 110149,\n",
              " 'giving': 54804,\n",
              " 'turn': 134619,\n",
              " 'spin': 123259,\n",
              " 'machine': 79434,\n",
              " 'make': 80077,\n",
              " 'good': 55621,\n",
              " 'theater': 130518,\n",
              " 'nothing': 91966,\n",
              " 'far': 47537,\n",
              " 'suggests': 126435,\n",
              " 'all': 7264,\n",
              " 'anything': 9572,\n",
              " 'than': 130440,\n",
              " 'grossly': 56800,\n",
              " 'incompetent': 64925,\n",
              " 'tone': 132210,\n",
              " 'deaf': 34180,\n",
              " 'what': 142599,\n",
              " 'does': 38967,\n",
              " 'suggest': 126427,\n",
              " 'however': 62353,\n",
              " 'acting': 4955,\n",
              " 'way': 141816,\n",
              " 'makes': 80093,\n",
              " 'dan': 33522,\n",
              " 'burton': 21449,\n",
              " 'issa': 67854,\n",
              " 'look': 78251,\n",
              " 'models': 85936,\n",
              " 'responsibility': 110528,\n",
              " 'bipartisanship': 17406,\n",
              " 'decency': 34432,\n",
              " 'notify': 91981,\n",
              " 'member': 83319,\n",
              " 'elijah': 42553,\n",
              " 'cummings': 32602,\n",
              " 'something': 122256,\n",
              " 'doesn': 38968,\n",
              " 'trample': 132959,\n",
              " 'basic': 14726,\n",
              " 'standards': 124159,\n",
              " 'fairness': 47201,\n",
              " 'don': 39212,\n",
              " 'granted': 56182,\n",
              " 'likely': 77099,\n",
              " 'will': 143238,\n",
              " 'answer': 9175,\n",
              " 'sits': 120444,\n",
              " 'ridiculously': 111480,\n",
              " 'district': 38559,\n",
              " 'anchored': 8535,\n",
              " 'provo': 104493,\n",
              " 'orem': 94616,\n",
              " 'cook': 30308,\n",
              " 'partisan': 97312,\n",
              " 'voting': 140736,\n",
              " 'index': 65125,\n",
              " '25': 1590,\n",
              " 'gave': 53108,\n",
              " 'mitt': 85662,\n",
              " 'romney': 112459,\n",
              " 'punishing': 105169,\n",
              " '78': 3136,\n",
              " 'percent': 98527,\n",
              " 'vote': 140713,\n",
              " '2012': 1314,\n",
              " 'moreover': 86871,\n",
              " 'leadership': 75715,\n",
              " 'given': 54795,\n",
              " 'its': 67989,\n",
              " 'full': 51855,\n",
              " 'support': 127049,\n",
              " 'planned': 100525,\n",
              " 'fishing': 49258,\n",
              " 'expedition': 46386,\n",
              " 'mean': 82715,\n",
              " 'can': 22525,\n",
              " 'hot': 62195,\n",
              " 'lights': 77060,\n",
              " 'textbook': 130335,\n",
              " 'example': 45996,\n",
              " 'become': 15370,\n",
              " 'control': 30138,\n",
              " 'graduate': 56034,\n",
              " 'university': 136710,\n",
              " 'north': 91828,\n",
              " 'carolina': 23286,\n",
              " 'considers': 29600,\n",
              " 'journalist': 69889,\n",
              " 'old': 93727,\n",
              " 'school': 115944,\n",
              " 'attempt': 11998,\n",
              " 'religious': 109461,\n",
              " 'college': 27855,\n",
              " 'succeeded': 126214,\n",
              " 'turning': 134636,\n",
              " 'nightmare': 90858,\n",
              " 'charismatic': 24933,\n",
              " 'christian': 25984,\n",
              " 'unapologetic': 135617,\n",
              " 'liberal': 76757,\n",
              " 'desire': 36283,\n",
              " 'stand': 124151,\n",
              " 'up': 137448,\n",
              " 'those': 131050,\n",
              " 'scared': 115521,\n",
              " 'silence': 119938,\n",
              " 'increased': 64993,\n",
              " 'survived': 127271,\n",
              " 'abusive': 4399,\n",
              " 'three': 131101,\n",
              " 'year': 145254,\n",
              " 'marriage': 81352,\n",
              " 'you': 145628,\n",
              " 'nc': 89666,\n",
              " 'follow': 50121,\n",
              " 'darrelllucus': 33773,\n",
              " 'or': 94469,\n",
              " 'connect': 29394,\n",
              " 'facebook': 46982,\n",
              " 'click': 26966,\n",
              " 'here': 60323,\n",
              " 'buy': 21639,\n",
              " 'mello': 83258,\n",
              " 'yello': 145306,\n",
              " 'ever': 45769,\n",
              " 'get': 54155,\n",
              " 'feeling': 48145,\n",
              " 'your': 145660,\n",
              " 'life': 76961,\n",
              " 'circles': 26396,\n",
              " 'roundabout': 112907,\n",
              " 'rather': 107222,\n",
              " 'straight': 125290,\n",
              " 'line': 77273,\n",
              " 'toward': 132668,\n",
              " 'intended': 66468,\n",
              " 'destination': 36448,\n",
              " 'remains': 109519,\n",
              " 'big': 17044,\n",
              " 'woman': 143925,\n",
              " 'campus': 22516,\n",
              " 'leafy': 75736,\n",
              " 'wellesley': 142261,\n",
              " 'massachusetts': 81647,\n",
              " 'everywhere': 45817,\n",
              " 'else': 42727,\n",
              " 'votes': 140729,\n",
              " 'her': 60257,\n",
              " 'most': 87120,\n",
              " 'inauguration': 64755,\n",
              " 'dress': 40000,\n",
              " 'remainder': 109513,\n",
              " 'days': 34066,\n",
              " 'miss': 85471,\n",
              " 'havisham': 59360,\n",
              " 'forever': 50438,\n",
              " 'wore': 144110,\n",
              " 'wedding': 142015,\n",
              " 'speaking': 122977,\n",
              " 'great': 56357,\n",
              " 'expectations': 46368,\n",
              " 'rodham': 112229,\n",
              " 'overflowed': 95624,\n",
              " '48': 2364,\n",
              " 'ago': 6106,\n",
              " 'she': 118582,\n",
              " 'first': 49212,\n",
              " 'addressed': 5213,\n",
              " 'graduating': 56037,\n",
              " 'class': 26750,\n",
              " 'president': 103048,\n",
              " 'gathered': 53038,\n",
              " '1969': 1154,\n",
              " 'students': 125704,\n",
              " 'needed': 89836,\n",
              " 'debate': 34261,\n",
              " 'could': 31008,\n",
              " 'ascertain': 11163,\n",
              " 'spokesman': 123427,\n",
              " 'kind': 72421,\n",
              " 'primaries': 103343,\n",
              " 'minus': 85106,\n",
              " 'terms': 130084,\n",
              " 'unknown': 136743,\n",
              " 'then': 130651,\n",
              " 'seven': 117900,\n",
              " 'sisters': 120409,\n",
              " 'am': 7823,\n",
              " 'very': 139431,\n",
              " 'glad': 54852,\n",
              " 'adams': 5125,\n",
              " 'clear': 26852,\n",
              " 'today': 131959,\n",
              " 'us': 137722,\n",
              " '400': 2177,\n",
              " 'classmates': 26779,\n",
              " 'appointing': 9942,\n",
              " 'herself': 60460,\n",
              " 'edger': 41610,\n",
              " 'bergen': 16261,\n",
              " 'charlie': 24965,\n",
              " 'mccarthys': 82340,\n",
              " 'mortimer': 87029,\n",
              " 'snerds': 121588,\n",
              " 'attendance': 12004,\n",
              " 'bespectacled': 16538,\n",
              " 'granny': 56179,\n",
              " 'glasses': 54910,\n",
              " 'awarding': 12941,\n",
              " 'matronly': 81915,\n",
              " 'wisdom': 143585,\n",
              " 'john': 69632,\n",
              " 'lennon': 76312,\n",
              " 'took': 132274,\n",
              " 'issue': 67869,\n",
              " 'previous': 103262,\n",
              " 'speaker': 122970,\n",
              " 'despite': 36368,\n",
              " 'becoming': 15373,\n",
              " 'win': 143338,\n",
              " 'election': 42359,\n",
              " 'seat': 116716,\n",
              " 'senate': 117363,\n",
              " 'since': 120168,\n",
              " 'reconstruction': 108182,\n",
              " 'edward': 41739,\n",
              " 'brooke': 20498,\n",
              " 'came': 22409,\n",
              " 'criticism': 31938,\n",
              " 'calling': 22286,\n",
              " 'empathy': 43111,\n",
              " 'goals': 55299,\n",
              " 'protestors': 104381,\n",
              " 'criticized': 31941,\n",
              " 'tactics': 128306,\n",
              " 'though': 131054,\n",
              " 'thesis': 130807,\n",
              " 'saul': 115166,\n",
              " 'alinsky': 7199,\n",
              " 'lamented': 74836,\n",
              " 'black': 17669,\n",
              " 'power': 102290,\n",
              " 'demagogues': 35305,\n",
              " 'elitist': 42598,\n",
              " 'arrogance': 10886,\n",
              " 'repressive': 110065,\n",
              " 'intolerance': 66941,\n",
              " 'within': 143673,\n",
              " 'new': 90393,\n",
              " 'left': 75967,\n",
              " 'similar': 120056,\n",
              " 'words': 144106,\n",
              " 'coming': 28208,\n",
              " 'necessitated': 89798,\n",
              " 'brief': 20182,\n",
              " 'rebuttal': 107859,\n",
              " 'trust': 134155,\n",
              " 'ironically': 67503,\n",
              " 'observed': 92971,\n",
              " 'word': 144093,\n",
              " 'asked': 11329,\n",
              " 'our': 95204,\n",
              " 'rehearsal': 109064,\n",
              " 'wanted': 141406,\n",
              " 'say': 115319,\n",
              " 'everyone': 45808,\n",
              " 'said': 114167,\n",
              " 'lack': 74561,\n",
              " 'both': 19268,\n",
              " 'feel': 48139,\n",
              " 'others': 95108,\n",
              " 'bust': 21538,\n",
              " 'permeates': 98776,\n",
              " 'generation': 53608,\n",
              " 'perhaps': 98670,\n",
              " 'understood': 136135,\n",
              " 'are': 10451,\n",
              " 'distrusted': 38565,\n",
              " 'certainly': 24459,\n",
              " 'busted': 21542,\n",
              " 'plans': 100531,\n",
              " 'did': 37139,\n",
              " 'understand': 136124,\n",
              " 'people': 98463,\n",
              " 'whitewater': 142856,\n",
              " 'travelgate': 133343,\n",
              " 'vast': 138611,\n",
              " 'conspiracy': 29684,\n",
              " 'benghazi': 16091,\n",
              " 'missing': 85484,\n",
              " 'voice': 140432,\n",
              " 'friday': 51412,\n",
              " 'load': 77840,\n",
              " 'compromising': 28735,\n",
              " 'road': 111999,\n",
              " 'broadening': 20369,\n",
              " 'horizons': 62011,\n",
              " 'distrust': 38564,\n",
              " 'trump': 134046,\n",
              " 'edged': 41607,\n",
              " '38': 2073,\n",
              " 'question': 106041,\n",
              " 'immediately': 64191,\n",
              " 'prior': 103444,\n",
              " 'november': 92070,\n",
              " 'stood': 125133,\n",
              " 'reason': 107730,\n",
              " 'closing': 27161,\n",
              " 'described': 36149,\n",
              " 'vanquisher': 138453,\n",
              " 'supporters': 127054,\n",
              " 'embracing': 42912,\n",
              " 'lie': 76913,\n",
              " 'con': 28806,\n",
              " 'alternative': 7686,\n",
              " 'assault': 11451,\n",
              " 'truth': 134169,\n",
              " 'failed': 47158,\n",
              " 'explain': 46455,\n",
              " 'why': 142957,\n",
              " 'chose': 25911,\n",
              " 'lies': 76947,\n",
              " 'over': 95512,\n",
              " 'history': 61180,\n",
              " 'majors': 80057,\n",
              " 'among': 8232,\n",
              " 'too': 132270,\n",
              " 'invent': 67103,\n",
              " 'own': 95950,\n",
              " 'attack': 11967,\n",
              " 'mark': 81193,\n",
              " 'beginning': 15581,\n",
              " 'end': 43416,\n",
              " 'free': 51178,\n",
              " 'society': 121873,\n",
              " 'offered': 93376,\n",
              " 'hyperbole': 63100,\n",
              " 'many': 80819,\n",
              " 'emerge': 42938,\n",
              " '1960s': 1142,\n",
              " 'embarked': 42849,\n",
              " 'upon': 137514,\n",
              " 'strange': 125319,\n",
              " 'trip': 133737,\n",
              " 'high': 60751,\n",
              " 'goldwater': 55520,\n",
              " 'girl': 54718,\n",
              " 'politician': 101301,\n",
              " 'drank': 39880,\n",
              " 'times': 131585,\n",
              " 'place': 100420,\n",
              " 'degree': 34980,\n",
              " 'more': 86851,\n",
              " 'significantly': 119851,\n",
              " 'idealist': 63541,\n",
              " 'cynic': 33047,\n",
              " 'comparison': 28481,\n",
              " 'commencement': 28257,\n",
              " 'addresses': 5215,\n",
              " 'show': 119303,\n",
              " 'back': 13378,\n",
              " 'leaders': 75714,\n",
              " 'viewed': 139785,\n",
              " 'politics': 101322,\n",
              " 'art': 10934,\n",
              " 'possible': 101987,\n",
              " 'challenge': 24684,\n",
              " 'practice': 102399,\n",
              " 'making': 80110,\n",
              " 'appears': 9859,\n",
              " 'impossible': 64526,\n",
              " 'odd': 93229,\n",
              " 'white': 142802,\n",
              " 'wonders': 143971,\n",
              " 'how': 62341,\n",
              " 'current': 32724,\n",
              " 'station': 124396,\n",
              " 'aren': 10463,\n",
              " '50': 2452,\n",
              " 'points': 101144,\n",
              " 'ahead': 6235,\n",
              " 'september': 117590,\n",
              " 'asks': 11339,\n",
              " 'isn': 67790,\n",
              " 'famously': 47438,\n",
              " 'dubbed': 40323,\n",
              " 'congenital': 29277,\n",
              " 'liar': 76730,\n",
              " 'bill': 17163,\n",
              " 'safire': 114083,\n",
              " 'concludes': 28919,\n",
              " 'theirs': 130613,\n",
              " 'mind': 84899,\n",
              " 'hers': 60455,\n",
              " 'getting': 54195,\n",
              " 'day': 34039,\n",
              " 'finding': 49019,\n",
              " 'yourself': 145670,\n",
              " 'jilted': 69393,\n",
              " 'bride': 20154,\n",
              " 'inspires': 66188,\n",
              " 'dangerous': 33571,\n",
              " 'delusions': 35289,\n",
              " 'might': 84485,\n",
              " 'fired': 49146,\n",
              " '29': 1714,\n",
              " 'tension': 129954,\n",
              " 'between': 16711,\n",
              " 'analysts': 8445,\n",
              " 'policymakers': 101255,\n",
              " 'always': 7789,\n",
              " 'honest': 61811,\n",
              " 'assessments': 11503,\n",
              " 'desired': 36285,\n",
              " 'results': 110659,\n",
              " 'latter': 75399,\n",
              " 'often': 93501,\n",
              " 'overwhelming': 95910,\n",
              " 'former': 50552,\n",
              " 'iraq': 67417,\n",
              " 'war': 141422,\n",
              " 'writes': 144423,\n",
              " 'lawrence': 75588,\n",
              " 'davidson': 33983,\n",
              " 'wonder': 143958,\n",
              " 'foreign': 50377,\n",
              " 'policy': 101251,\n",
              " 'makers': 80092,\n",
              " 'repeatedly': 109881,\n",
              " 'bad': 13513,\n",
              " 'choices': 25816,\n",
              " 'some': 122236,\n",
              " 'insight': 66119,\n",
              " 'drawn': 39917,\n",
              " 'following': 50127,\n",
              " 'analysis': 8443,\n",
              " 'action': 4957,\n",
              " 'plays': 100680,\n",
              " 'united': 136662,\n",
              " 'states': 124379,\n",
              " 'lessons': 76459,\n",
              " 'probably': 103592,\n",
              " 'universal': 136685,\n",
              " 'early': 41221,\n",
              " 'spring': 123624,\n",
              " '2003': 1288,\n",
              " 'george': 53819,\n",
              " 'bush': 21482,\n",
              " 'initiated': 65843,\n",
              " 'invasion': 67090,\n",
              " 'key': 71921,\n",
              " 'reasons': 107738,\n",
              " 'claim': 26625,\n",
              " 'country': 31159,\n",
              " 'dictator': 37125,\n",
              " 'saddam': 113970,\n",
              " 'hussein': 62909,\n",
              " 'verge': 139130,\n",
              " 'developing': 36707,\n",
              " 'nuclear': 92256,\n",
              " 'weapons': 141919,\n",
              " 'hiding': 60718,\n",
              " 'mass': 81645,\n",
              " 'destruction': 36475,\n",
              " 'real': 107577,\n",
              " 'beyond': 16809,\n",
              " 'charge': 24917,\n",
              " 'included': 64883,\n",
              " 'range': 106962,\n",
              " 'plan': 100481,\n",
              " 'regime': 108900,\n",
              " 'change': 24780,\n",
              " 'middle': 84376,\n",
              " 'east': 41301,\n",
              " 'vice': 139618,\n",
              " 'dick': 37094,\n",
              " 'cheney': 25318,\n",
              " 'oval': 95494,\n",
              " 'office': 93390,\n",
              " 'briefing': 20189,\n",
              " 'cia': 26201,\n",
              " 'tenet': 129905,\n",
              " 'present': 102983,\n",
              " 'chief': 25537,\n",
              " 'staff': 124013,\n",
              " 'andy': 8673,\n",
              " 'card': 23060,\n",
              " 'photo': 99567,\n",
              " 'purposes': 105304,\n",
              " 'concentrate': 28848,\n",
              " 'belief': 15829,\n",
              " 'hostile': 62184,\n",
              " 'close': 27147,\n",
              " 'associates': 11552,\n",
              " 'accept': 4517,\n",
              " 'scenario': 115586,\n",
              " 'readily': 107528,\n",
              " 'short': 119205,\n",
              " 'indeed': 65076,\n",
              " 'believe': 15835,\n",
              " 'rationale': 107243,\n",
              " 'invading': 67079,\n",
              " 'tried': 133653,\n",
              " '11': 347,\n",
              " 'attacks': 11973,\n",
              " 'never': 90371,\n",
              " 'stratagem': 125352,\n",
              " 'evidence': 45836,\n",
              " 'difficult': 37261,\n",
              " 'rally': 106796,\n",
              " 'fixated': 49336,\n",
              " 'afghanistan': 5824,\n",
              " 'against': 5958,\n",
              " 'baghdad': 13621,\n",
              " 'gambit': 52593,\n",
              " 'proved': 104444,\n",
              " 'fruitful': 51644,\n",
              " 'because': 15332,\n",
              " 'any': 9559,\n",
              " 'hard': 58825,\n",
              " 'supposedly': 127062,\n",
              " 'reliable': 109431,\n",
              " 'witnesses': 143692,\n",
              " 'persons': 98968,\n",
              " 'exiled': 46270,\n",
              " 'anti': 9268,\n",
              " 'iraqis': 67419,\n",
              " 'payroll': 97886,\n",
              " 'kept': 71798,\n",
              " 'telling': 129733,\n",
              " 'advisers': 5628,\n",
              " 'story': 125218,\n",
              " 'true': 134012,\n",
              " 'cadre': 21997,\n",
              " 'whose': 142944,\n",
              " 'worldview': 144186,\n",
              " 'literally': 77535,\n",
              " 'demanded': 35317,\n",
              " 'mortally': 87008,\n",
              " 'informants': 65605,\n",
              " 'precipitate': 102575,\n",
              " 'overthrow': 95871,\n",
              " 'were': 142376,\n",
              " 'willing': 143275,\n",
              " 'tell': 129728,\n",
              " 'tale': 128534,\n",
              " 'pending': 98318,\n",
              " 'atomic': 11896,\n",
              " 'strong': 125615,\n",
              " 'lowered': 78573,\n",
              " 'threshold': 131112,\n",
              " 'proof': 104083,\n",
              " 'likewise': 77108,\n",
              " 'repeated': 109880,\n",
              " 'assertions': 11491,\n",
              " 'assumed': 11575,\n",
              " 'dependable': 35757,\n",
              " 'iraqi': 67418,\n",
              " 'sources': 122663,\n",
              " 'underpinned': 136075,\n",
              " 'nationwide': 89427,\n",
              " 'campaign': 22472,\n",
              " 'generating': 53607,\n",
              " 'fear': 48006,\n",
              " 'fever': 48565,\n",
              " 'allies': 7381,\n",
              " 'insisted': 66141,\n",
              " 'nations': 89425,\n",
              " 'send': 117384,\n",
              " 'inspectors': 66178,\n",
              " 'scour': 116338,\n",
              " 'program': 103875,\n",
              " 'chemical': 25286,\n",
              " 'biological': 17341,\n",
              " 'convincing': 30266,\n",
              " 'frustrated': 51660,\n",
              " 'administration': 5373,\n",
              " 'soon': 122389,\n",
              " 'forced': 50310,\n",
              " 'hand': 58507,\n",
              " 'march': 80940,\n",
              " '19': 1060,\n",
              " 'launched': 75449,\n",
              " 'expectation': 46367,\n",
              " 'once': 94022,\n",
              " 'occupation': 93108,\n",
              " 'would': 144264,\n",
              " 'surely': 127138,\n",
              " 'nukes': 92317,\n",
              " 'stockpiles': 125054,\n",
              " 'systematically': 127994,\n",
              " 'lied': 76929,\n",
              " 'social': 121840,\n",
              " 'behavioral': 15627,\n",
              " 'sciences': 116200,\n",
              " 'rescue': 110263,\n",
              " 'various': 138529,\n",
              " 'agencies': 5994,\n",
              " 'thoroughly': 131038,\n",
              " 'shaken': 118220,\n",
              " 'affair': 5749,\n",
              " '13': 519,\n",
              " 'later': 75343,\n",
              " 'directors': 37669,\n",
              " 'managers': 80432,\n",
              " 'still': 124923,\n",
              " 'trying': 134208,\n",
              " 'sort': 122517,\n",
              " 'specifically': 123018,\n",
              " 'being': 15697,\n",
              " 'worker': 144124,\n",
              " 'put': 105381,\n",
              " 'need': 89834,\n",
              " 'help': 60092,\n",
              " 'protect': 104326,\n",
              " 'armies': 10699,\n",
              " 'snake': 121514,\n",
              " 'oil': 93597,\n",
              " 'salesmen': 114318,\n",
              " 'et': 45343,\n",
              " 'al': 6673,\n",
              " 'market': 81210,\n",
              " 'academic': 4449,\n",
              " 'assistance': 11539,\n",
              " 'ahmed': 6266,\n",
              " 'chalabi': 24663,\n",
              " 'head': 59542,\n",
              " 'national': 89390,\n",
              " 'congress': 29316,\n",
              " 'supplier': 127044,\n",
              " 'defectors': 34795,\n",
              " 'bogus': 18612,\n",
              " 'stories': 125198,\n",
              " 'hidden': 60697,\n",
              " 'wmd': 143775,\n",
              " 'partnership': 97329,\n",
              " 'forged': 50457,\n",
              " 'odni': 93283,\n",
              " 'serves': 117768,\n",
              " 'coordinating': 30390,\n",
              " 'center': 24309,\n",
              " 'sixteen': 120509,\n",
              " 'independent': 65105,\n",
              " 'academies': 4455,\n",
              " 'engineering': 43637,\n",
              " 'medicine': 82898,\n",
              " 'result': 110647,\n",
              " 'collaboration': 27796,\n",
              " 'permanent': 98767,\n",
              " 'community': 28419,\n",
              " 'studies': 125712,\n",
              " 'board': 18411,\n",
              " 'coordinate': 30387,\n",
              " 'programs': 103897,\n",
              " 'science': 116194,\n",
              " 'research': 110272,\n",
              " 'strengthen': 125486,\n",
              " 'security': 116881,\n",
              " 'effort': 41829,\n",
              " 'almost': 7529,\n",
              " 'certain': 24456,\n",
              " 'cannot': 22699,\n",
              " 'give': 54791,\n",
              " 'spy': 123721,\n",
              " 'want': 141405,\n",
              " 'detecting': 36529,\n",
              " 'better': 16697,\n",
              " 'standard': 124154,\n",
              " 'procedures': 103645,\n",
              " 'polygraph': 101462,\n",
              " 'tests': 130262,\n",
              " 'interrogations': 66812,\n",
              " 'difference': 37245,\n",
              " 'problem': 103616,\n",
              " 'liars': 76731,\n",
              " 'believers': 15840,\n",
              " 'simply': 120123,\n",
              " 'seem': 116967,\n",
              " 'assert': 11487,\n",
              " 'personnel': 98966,\n",
              " 'thousands': 131070,\n",
              " 'echelon': 41430,\n",
              " 'workers': 144125,\n",
              " 'desk': 36296,\n",
              " 'officers': 93396,\n",
              " 'specialists': 123000,\n",
              " 'closely': 27150,\n",
              " 'approaching': 10002,\n",
              " 'pretty': 103222,\n",
              " 'going': 55438,\n",
              " 'places': 100436,\n",
              " 'syria': 127956,\n",
              " 'libya': 76844,\n",
              " 'israel': 67830,\n",
              " 'palestine': 96444,\n",
              " 'elsewhere': 42732,\n",
              " 'clapper': 26686,\n",
              " 'talks': 128582,\n",
              " 'barack': 14257,\n",
              " 'obama': 92736,\n",
              " 'brennan': 20038,\n",
              " 'aides': 6321,\n",
              " 'credit': 31666,\n",
              " 'therefore': 130743,\n",
              " 'someone': 122241,\n",
              " 'feeds': 48136,\n",
              " 'usually': 137879,\n",
              " 'having': 59359,\n",
              " 'accurate': 4659,\n",
              " 'grasp': 56223,\n",
              " 'avail': 12713,\n",
              " 'superiors': 126901,\n",
              " 'appointments': 9945,\n",
              " 'accepting': 4525,\n",
              " 'pre': 102509,\n",
              " 'structured': 125639,\n",
              " 'different': 37247,\n",
              " 'criterion': 31926,\n",
              " 'do': 38861,\n",
              " 'listen': 77493,\n",
              " 'charles': 24954,\n",
              " 'gaukel': 53084,\n",
              " 'council': 31025,\n",
              " 'yet': 145395,\n",
              " 'another': 9117,\n",
              " 'organization': 94686,\n",
              " 'acts': 5014,\n",
              " 'meeting': 83003,\n",
              " 'ground': 56815,\n",
              " '16': 740,\n",
              " 'referring': 108661,\n",
              " 'search': 116679,\n",
              " 'avoid': 12871,\n",
              " 'taken': 128481,\n",
              " 'declared': 34540,\n",
              " 're': 107470,\n",
              " 'particularly': 97283,\n",
              " 'works': 144152,\n",
              " 'means': 82732,\n",
              " 'historically': 61167,\n",
              " 'brokers': 20442,\n",
              " 'must': 88272,\n",
              " 'match': 81781,\n",
              " 'fit': 49291,\n",
              " 'ideological': 63597,\n",
              " 'precepts': 102556,\n",
              " 'hit': 61192,\n",
              " 'roadblock': 112001,\n",
              " 'caused': 23911,\n",
              " 'group': 56838,\n",
              " 'think': 130914,\n",
              " 'blinkers': 18018,\n",
              " 'attitude': 12046,\n",
              " 'selling': 117229,\n",
              " 'matches': 81788,\n",
              " 'peddle': 98091,\n",
              " 'imaginary': 64084,\n",
              " 'western': 142457,\n",
              " 'style': 125818,\n",
              " 'democracy': 35418,\n",
              " 'saudi': 115149,\n",
              " 'arabia': 10193,\n",
              " 'indispensable': 65224,\n",
              " 'ally': 7474,\n",
              " 'liberated': 76772,\n",
              " 'bashar': 14708,\n",
              " 'assad': 11420,\n",
              " ...}"
            ]
          },
          "metadata": {
            "tags": []
          },
          "execution_count": 76
        }
      ]
    },
    {
      "metadata": {
        "id": "55RPFHUzuU37",
        "colab_type": "code",
        "colab": {
          "base_uri": "https://localhost:8080/",
          "height": 945
        },
        "outputId": "ec5717ed-2c66-4a9f-9b3f-15bbe059f46c"
      },
      "cell_type": "code",
      "source": [
        "print(transformed)"
      ],
      "execution_count": 77,
      "outputs": [
        {
          "output_type": "stream",
          "text": [
            "  (0, 1314)\t1\n",
            "  (0, 1326)\t2\n",
            "  (0, 1590)\t1\n",
            "  (0, 1687)\t1\n",
            "  (0, 1826)\t2\n",
            "  (0, 3136)\t1\n",
            "  (0, 4111)\t1\n",
            "  (0, 4202)\t7\n",
            "  (0, 4399)\t1\n",
            "  (0, 4604)\t3\n",
            "  (0, 4955)\t1\n",
            "  (0, 5031)\t1\n",
            "  (0, 5559)\t1\n",
            "  (0, 5918)\t5\n",
            "  (0, 5995)\t1\n",
            "  (0, 6317)\t5\n",
            "  (0, 7264)\t2\n",
            "  (0, 7606)\t3\n",
            "  (0, 7626)\t2\n",
            "  (0, 8066)\t1\n",
            "  (0, 8384)\t5\n",
            "  (0, 8535)\t1\n",
            "  (0, 8555)\t16\n",
            "  (0, 9039)\t1\n",
            "  (0, 9175)\t1\n",
            "  :\t:\n",
            "  (18284, 143773)\t1\n",
            "  (18284, 143956)\t1\n",
            "  (18284, 144052)\t1\n",
            "  (18284, 144112)\t1\n",
            "  (18284, 144122)\t1\n",
            "  (18284, 144134)\t1\n",
            "  (18284, 144167)\t5\n",
            "  (18284, 144169)\t2\n",
            "  (18284, 144210)\t1\n",
            "  (18284, 144264)\t1\n",
            "  (18284, 144267)\t1\n",
            "  (18284, 144307)\t1\n",
            "  (18284, 144473)\t1\n",
            "  (18284, 144496)\t1\n",
            "  (18284, 144521)\t1\n",
            "  (18284, 144534)\t1\n",
            "  (18284, 144549)\t1\n",
            "  (18284, 144581)\t1\n",
            "  (18284, 144582)\t1\n",
            "  (18284, 144587)\t1\n",
            "  (18284, 144645)\t1\n",
            "  (18284, 145254)\t1\n",
            "  (18284, 145264)\t3\n",
            "  (18284, 145628)\t2\n",
            "  (18284, 145660)\t2\n"
          ],
          "name": "stdout"
        }
      ]
    },
    {
      "metadata": {
        "id": "cUgxOrQesl2v",
        "colab_type": "code",
        "colab": {
          "base_uri": "https://localhost:8080/",
          "height": 35
        },
        "outputId": "6eff20d7-30c9-44af-caee-f5577429d592"
      },
      "cell_type": "code",
      "source": [
        "transformed.shape"
      ],
      "execution_count": 78,
      "outputs": [
        {
          "output_type": "execute_result",
          "data": {
            "text/plain": [
              "(18285, 160355)"
            ]
          },
          "metadata": {
            "tags": []
          },
          "execution_count": 78
        }
      ]
    },
    {
      "metadata": {
        "id": "DYnmtAvWr6Xz",
        "colab_type": "code",
        "colab": {}
      },
      "cell_type": "code",
      "source": [
        "X_train, X_test, y_train, y_test = train_test_split(transformed,y, test_size = 0.2, random_state = 15)"
      ],
      "execution_count": 0,
      "outputs": []
    },
    {
      "metadata": {
        "id": "TVwkGpASwm7f",
        "colab_type": "code",
        "colab": {}
      },
      "cell_type": "code",
      "source": [
        "from sklearn.neighbors import KNeighborsClassifier"
      ],
      "execution_count": 0,
      "outputs": []
    },
    {
      "metadata": {
        "id": "cb8AOgL5wxbB",
        "colab_type": "code",
        "colab": {
          "base_uri": "https://localhost:8080/",
          "height": 35
        },
        "outputId": "f88fbb10-3063-46cb-fd67-d9760bdffd61"
      },
      "cell_type": "code",
      "source": [
        "steps = [('knn',KNeighborsClassifier())]\n",
        "\n",
        "pipeline = Pipeline(steps)\n",
        "pipeline.fit(X_train,y_train)\n",
        "preds_lr = pipeline.predict(X_test)\n",
        "pipeline.score(X_test, y_test)\n"
      ],
      "execution_count": 81,
      "outputs": [
        {
          "output_type": "execute_result",
          "data": {
            "text/plain": [
              "0.8400328137817884"
            ]
          },
          "metadata": {
            "tags": []
          },
          "execution_count": 81
        }
      ]
    },
    {
      "metadata": {
        "id": "QYKKmxYKMLHI",
        "colab_type": "code",
        "colab": {}
      },
      "cell_type": "code",
      "source": [
        "# Tf-idf implementation"
      ],
      "execution_count": 0,
      "outputs": []
    },
    {
      "metadata": {
        "id": "7bftYEw1MvWE",
        "colab_type": "code",
        "colab": {
          "base_uri": "https://localhost:8080/",
          "height": 54
        },
        "outputId": "55a00fe2-7e93-4f78-d68a-3a51a0c2b067"
      },
      "cell_type": "code",
      "source": [
        "from sklearn.feature_extraction.text import TfidfVectorizer\n",
        "from sklearn.svm import SVC\n",
        "\n",
        "tfidf=TfidfVectorizer()\n",
        "transformed=tfidf.fit_transform(X)\n",
        "transformed"
      ],
      "execution_count": 86,
      "outputs": [
        {
          "output_type": "execute_result",
          "data": {
            "text/plain": [
              "<18285x160355 sparse matrix of type '<class 'numpy.float64'>'\n",
              "\twith 6338616 stored elements in Compressed Sparse Row format>"
            ]
          },
          "metadata": {
            "tags": []
          },
          "execution_count": 86
        }
      ]
    },
    {
      "metadata": {
        "id": "lAoseSR1Ns1t",
        "colab_type": "code",
        "colab": {
          "base_uri": "https://localhost:8080/",
          "height": 35
        },
        "outputId": "1643320d-c398-4284-bc6f-efe6078414e1"
      },
      "cell_type": "code",
      "source": [
        "clf_tfidf=SVC(kernel=\"linear\")\n",
        "clf_tfidf.fit(X_train,y_train)\n",
        "preds_tfidf=clf_tfidf.predict(X_test)\n",
        "\n",
        "(preds_tfidf==y_test).sum()/len(y_test)"
      ],
      "execution_count": 87,
      "outputs": [
        {
          "output_type": "execute_result",
          "data": {
            "text/plain": [
              "0.9524200164068909"
            ]
          },
          "metadata": {
            "tags": []
          },
          "execution_count": 87
        }
      ]
    },
    {
      "metadata": {
        "id": "NMvz7ZkBPDA2",
        "colab_type": "code",
        "colab": {}
      },
      "cell_type": "code",
      "source": [
        ""
      ],
      "execution_count": 0,
      "outputs": []
    }
  ]
}