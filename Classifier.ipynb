{
  "nbformat": 4,
  "nbformat_minor": 0,
  "metadata": {
    "colab": {
      "name": "Classifier.ipynb",
      "version": "0.3.2",
      "provenance": [],
      "include_colab_link": true
    },
    "kernelspec": {
      "name": "python3",
      "display_name": "Python 3"
    }
  },
  "cells": [
    {
      "cell_type": "markdown",
      "metadata": {
        "id": "view-in-github",
        "colab_type": "text"
      },
      "source": [
        "[View in Colaboratory](https://colab.research.google.com/github/manan-arya/Fake_News_US/blob/master/Classifier.ipynb)"
      ]
    },
    {
      "metadata": {
        "id": "woxCWLI8Tjwz",
        "colab_type": "code",
        "colab": {
          "base_uri": "https://localhost:8080/",
          "height": 411
        },
        "outputId": "faab0480-9c23-42c2-93ab-f65d6e0c9eaa"
      },
      "cell_type": "code",
      "source": [
        "!wget https://raw.githubusercontent.com/manan-arya/Fake_News_US/master/kaggle_dataset/train.csv?token=AcjiTfZQHIFYhQ_qKtVo0y6rG3mD71Lcks5bl-ZPwA%3D%3D\n",
        "!wget https://raw.githubusercontent.com/manan-arya/Fake_News_US/master/kaggle_dataset/test.csv?token=AcjiTZknxG_W1-9YmnE6V9HSgBkxaIJgks5bl-aEwA%3D%3D"
      ],
      "execution_count": 1,
      "outputs": [
        {
          "output_type": "stream",
          "text": [
            "--2018-09-04 16:00:34--  https://raw.githubusercontent.com/manan-arya/Fake_News_US/master/kaggle_dataset/train.csv?token=AcjiTfZQHIFYhQ_qKtVo0y6rG3mD71Lcks5bl-ZPwA%3D%3D\n",
            "Resolving raw.githubusercontent.com (raw.githubusercontent.com)... 151.101.0.133, 151.101.64.133, 151.101.128.133, ...\n",
            "Connecting to raw.githubusercontent.com (raw.githubusercontent.com)|151.101.0.133|:443... connected.\n",
            "HTTP request sent, awaiting response... 200 OK\n",
            "Length: 98628550 (94M) [text/plain]\n",
            "Saving to: ‘train.csv?token=AcjiTfZQHIFYhQ_qKtVo0y6rG3mD71Lcks5bl-ZPwA%3D%3D’\n",
            "\n",
            "train.csv?token=Acj 100%[===================>]  94.06M   127MB/s    in 0.7s    \n",
            "\n",
            "2018-09-04 16:00:36 (127 MB/s) - ‘train.csv?token=AcjiTfZQHIFYhQ_qKtVo0y6rG3mD71Lcks5bl-ZPwA%3D%3D’ saved [98628550/98628550]\n",
            "\n",
            "--2018-09-04 16:00:37--  https://raw.githubusercontent.com/manan-arya/Fake_News_US/master/kaggle_dataset/test.csv?token=AcjiTZknxG_W1-9YmnE6V9HSgBkxaIJgks5bl-aEwA%3D%3D\n",
            "Resolving raw.githubusercontent.com (raw.githubusercontent.com)... 151.101.0.133, 151.101.64.133, 151.101.128.133, ...\n",
            "Connecting to raw.githubusercontent.com (raw.githubusercontent.com)|151.101.0.133|:443... connected.\n",
            "HTTP request sent, awaiting response... 200 OK\n",
            "Length: 25144581 (24M) [text/plain]\n",
            "Saving to: ‘test.csv?token=AcjiTZknxG_W1-9YmnE6V9HSgBkxaIJgks5bl-aEwA%3D%3D’\n",
            "\n",
            "test.csv?token=Acji 100%[===================>]  23.98M  71.0MB/s    in 0.3s    \n",
            "\n",
            "2018-09-04 16:00:38 (71.0 MB/s) - ‘test.csv?token=AcjiTZknxG_W1-9YmnE6V9HSgBkxaIJgks5bl-aEwA%3D%3D’ saved [25144581/25144581]\n",
            "\n"
          ],
          "name": "stdout"
        }
      ]
    },
    {
      "metadata": {
        "id": "Oeg0h7IBUWNB",
        "colab_type": "code",
        "colab": {}
      },
      "cell_type": "code",
      "source": [
        "import pandas as pd\n",
        "import numpy as np\n",
        "import matplotlib.pyplot as plt"
      ],
      "execution_count": 0,
      "outputs": []
    },
    {
      "metadata": {
        "id": "KuRbpVK_UIrW",
        "colab_type": "code",
        "colab": {
          "base_uri": "https://localhost:8080/",
          "height": 204
        },
        "outputId": "96daa4dd-df0d-426b-cc58-7936b64880e4"
      },
      "cell_type": "code",
      "source": [
        "train = pd.read_csv('train.csv?token=AcjiTfZQHIFYhQ_qKtVo0y6rG3mD71Lcks5bl-ZPwA%3D%3D')\n",
        "train.head()"
      ],
      "execution_count": 5,
      "outputs": [
        {
          "output_type": "execute_result",
          "data": {
            "text/html": [
              "<div>\n",
              "<style scoped>\n",
              "    .dataframe tbody tr th:only-of-type {\n",
              "        vertical-align: middle;\n",
              "    }\n",
              "\n",
              "    .dataframe tbody tr th {\n",
              "        vertical-align: top;\n",
              "    }\n",
              "\n",
              "    .dataframe thead th {\n",
              "        text-align: right;\n",
              "    }\n",
              "</style>\n",
              "<table border=\"1\" class=\"dataframe\">\n",
              "  <thead>\n",
              "    <tr style=\"text-align: right;\">\n",
              "      <th></th>\n",
              "      <th>id</th>\n",
              "      <th>title</th>\n",
              "      <th>author</th>\n",
              "      <th>text</th>\n",
              "      <th>label</th>\n",
              "    </tr>\n",
              "  </thead>\n",
              "  <tbody>\n",
              "    <tr>\n",
              "      <th>0</th>\n",
              "      <td>0</td>\n",
              "      <td>House Dem Aide: We Didn’t Even See Comey’s Let...</td>\n",
              "      <td>Darrell Lucus</td>\n",
              "      <td>House Dem Aide: We Didn’t Even See Comey’s Let...</td>\n",
              "      <td>1</td>\n",
              "    </tr>\n",
              "    <tr>\n",
              "      <th>1</th>\n",
              "      <td>1</td>\n",
              "      <td>FLYNN: Hillary Clinton, Big Woman on Campus - ...</td>\n",
              "      <td>Daniel J. Flynn</td>\n",
              "      <td>Ever get the feeling your life circles the rou...</td>\n",
              "      <td>0</td>\n",
              "    </tr>\n",
              "    <tr>\n",
              "      <th>2</th>\n",
              "      <td>2</td>\n",
              "      <td>Why the Truth Might Get You Fired</td>\n",
              "      <td>Consortiumnews.com</td>\n",
              "      <td>Why the Truth Might Get You Fired October 29, ...</td>\n",
              "      <td>1</td>\n",
              "    </tr>\n",
              "    <tr>\n",
              "      <th>3</th>\n",
              "      <td>3</td>\n",
              "      <td>15 Civilians Killed In Single US Airstrike Hav...</td>\n",
              "      <td>Jessica Purkiss</td>\n",
              "      <td>Videos 15 Civilians Killed In Single US Airstr...</td>\n",
              "      <td>1</td>\n",
              "    </tr>\n",
              "    <tr>\n",
              "      <th>4</th>\n",
              "      <td>4</td>\n",
              "      <td>Iranian woman jailed for fictional unpublished...</td>\n",
              "      <td>Howard Portnoy</td>\n",
              "      <td>Print \\nAn Iranian woman has been sentenced to...</td>\n",
              "      <td>1</td>\n",
              "    </tr>\n",
              "  </tbody>\n",
              "</table>\n",
              "</div>"
            ],
            "text/plain": [
              "   id                                              title              author  \\\n",
              "0   0  House Dem Aide: We Didn’t Even See Comey’s Let...       Darrell Lucus   \n",
              "1   1  FLYNN: Hillary Clinton, Big Woman on Campus - ...     Daniel J. Flynn   \n",
              "2   2                  Why the Truth Might Get You Fired  Consortiumnews.com   \n",
              "3   3  15 Civilians Killed In Single US Airstrike Hav...     Jessica Purkiss   \n",
              "4   4  Iranian woman jailed for fictional unpublished...      Howard Portnoy   \n",
              "\n",
              "                                                text  label  \n",
              "0  House Dem Aide: We Didn’t Even See Comey’s Let...      1  \n",
              "1  Ever get the feeling your life circles the rou...      0  \n",
              "2  Why the Truth Might Get You Fired October 29, ...      1  \n",
              "3  Videos 15 Civilians Killed In Single US Airstr...      1  \n",
              "4  Print \\nAn Iranian woman has been sentenced to...      1  "
            ]
          },
          "metadata": {
            "tags": []
          },
          "execution_count": 5
        }
      ]
    },
    {
      "metadata": {
        "id": "krnfQVuVWtKa",
        "colab_type": "code",
        "colab": {
          "base_uri": "https://localhost:8080/",
          "height": 204
        },
        "outputId": "347fd3d8-fa5d-47a7-ff40-b410ba572320"
      },
      "cell_type": "code",
      "source": [
        "test = pd.read_csv('test.csv?token=AcjiTZknxG_W1-9YmnE6V9HSgBkxaIJgks5bl-aEwA%3D%3D')\n",
        "test.head()"
      ],
      "execution_count": 7,
      "outputs": [
        {
          "output_type": "execute_result",
          "data": {
            "text/html": [
              "<div>\n",
              "<style scoped>\n",
              "    .dataframe tbody tr th:only-of-type {\n",
              "        vertical-align: middle;\n",
              "    }\n",
              "\n",
              "    .dataframe tbody tr th {\n",
              "        vertical-align: top;\n",
              "    }\n",
              "\n",
              "    .dataframe thead th {\n",
              "        text-align: right;\n",
              "    }\n",
              "</style>\n",
              "<table border=\"1\" class=\"dataframe\">\n",
              "  <thead>\n",
              "    <tr style=\"text-align: right;\">\n",
              "      <th></th>\n",
              "      <th>id</th>\n",
              "      <th>title</th>\n",
              "      <th>author</th>\n",
              "      <th>text</th>\n",
              "    </tr>\n",
              "  </thead>\n",
              "  <tbody>\n",
              "    <tr>\n",
              "      <th>0</th>\n",
              "      <td>20800</td>\n",
              "      <td>Specter of Trump Loosens Tongues, if Not Purse...</td>\n",
              "      <td>David Streitfeld</td>\n",
              "      <td>PALO ALTO, Calif.  —   After years of scorning...</td>\n",
              "    </tr>\n",
              "    <tr>\n",
              "      <th>1</th>\n",
              "      <td>20801</td>\n",
              "      <td>Russian warships ready to strike terrorists ne...</td>\n",
              "      <td>NaN</td>\n",
              "      <td>Russian warships ready to strike terrorists ne...</td>\n",
              "    </tr>\n",
              "    <tr>\n",
              "      <th>2</th>\n",
              "      <td>20802</td>\n",
              "      <td>#NoDAPL: Native American Leaders Vow to Stay A...</td>\n",
              "      <td>Common Dreams</td>\n",
              "      <td>Videos #NoDAPL: Native American Leaders Vow to...</td>\n",
              "    </tr>\n",
              "    <tr>\n",
              "      <th>3</th>\n",
              "      <td>20803</td>\n",
              "      <td>Tim Tebow Will Attempt Another Comeback, This ...</td>\n",
              "      <td>Daniel Victor</td>\n",
              "      <td>If at first you don’t succeed, try a different...</td>\n",
              "    </tr>\n",
              "    <tr>\n",
              "      <th>4</th>\n",
              "      <td>20804</td>\n",
              "      <td>Keiser Report: Meme Wars (E995)</td>\n",
              "      <td>Truth Broadcast Network</td>\n",
              "      <td>42 mins ago 1 Views 0 Comments 0 Likes 'For th...</td>\n",
              "    </tr>\n",
              "  </tbody>\n",
              "</table>\n",
              "</div>"
            ],
            "text/plain": [
              "      id                                              title  \\\n",
              "0  20800  Specter of Trump Loosens Tongues, if Not Purse...   \n",
              "1  20801  Russian warships ready to strike terrorists ne...   \n",
              "2  20802  #NoDAPL: Native American Leaders Vow to Stay A...   \n",
              "3  20803  Tim Tebow Will Attempt Another Comeback, This ...   \n",
              "4  20804                    Keiser Report: Meme Wars (E995)   \n",
              "\n",
              "                    author                                               text  \n",
              "0         David Streitfeld  PALO ALTO, Calif.  —   After years of scorning...  \n",
              "1                      NaN  Russian warships ready to strike terrorists ne...  \n",
              "2            Common Dreams  Videos #NoDAPL: Native American Leaders Vow to...  \n",
              "3            Daniel Victor  If at first you don’t succeed, try a different...  \n",
              "4  Truth Broadcast Network  42 mins ago 1 Views 0 Comments 0 Likes 'For th...  "
            ]
          },
          "metadata": {
            "tags": []
          },
          "execution_count": 7
        }
      ]
    },
    {
      "metadata": {
        "id": "VHrgcaIoVBcA",
        "colab_type": "text"
      },
      "cell_type": "markdown",
      "source": [
        "Unreliable = 1\n",
        "Reliable = 0"
      ]
    },
    {
      "metadata": {
        "id": "JCL7co2XZefy",
        "colab_type": "text"
      },
      "cell_type": "markdown",
      "source": [
        "##Plots"
      ]
    },
    {
      "metadata": {
        "id": "pap_7RWFZdSR",
        "colab_type": "code",
        "colab": {}
      },
      "cell_type": "code",
      "source": [
        ""
      ],
      "execution_count": 0,
      "outputs": []
    }
  ]
}